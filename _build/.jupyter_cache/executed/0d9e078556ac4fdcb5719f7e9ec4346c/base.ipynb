{
 "cells": [
  {
   "cell_type": "code",
   "execution_count": 1,
   "id": "2763848a",
   "metadata": {},
   "outputs": [],
   "source": [
    "from qiskit.quantum_info import SparsePauliOp, Statevector\n",
    "\n",
    "import quantum_simulation_recipe as qsr\n",
    "from quantum_simulation_recipe import spin_ham"
   ]
  },
  {
   "cell_type": "code",
   "execution_count": 2,
   "id": "8032a8eb",
   "metadata": {},
   "outputs": [
    {
     "data": {
      "text/plain": [
       "SparsePauliOp(['IIXX', 'IXXI', 'XXII', 'IIYY', 'IYYI', 'YYII', 'IIZZ', 'IZZI', 'ZZII', 'IIIX', 'IIXI', 'IXII', 'XIII'],\n",
       "              coeffs=[1. +0.j, 1. +0.j, 1. +0.j, 1. +0.j, 1. +0.j, 1. +0.j, 1. +0.j, 1. +0.j,\n",
       " 1. +0.j, 0.2+0.j, 0.2+0.j, 0.2+0.j, 0.2+0.j])"
      ]
     },
     "execution_count": 2,
     "metadata": {},
     "output_type": "execute_result"
    }
   ],
   "source": [
    "H = spin_ham.Nearest_Neighbour_1d(4)\n",
    "H.ham"
   ]
  },
  {
   "cell_type": "code",
   "execution_count": 3,
   "id": "5c75d90b",
   "metadata": {},
   "outputs": [
    {
     "data": {
      "text/plain": [
       "SparsePauliOp(['IIXX', 'IXIX', 'XIIX', 'IXXI', 'XIXI', 'XXII', 'IIYY', 'IYIY', 'YIIY', 'IYYI', 'YIYI', 'YYII', 'IIZZ', 'IZIZ', 'ZIIZ', 'IZZI', 'ZIZI', 'ZZII', 'IIIZ', 'IIZI', 'IZII', 'ZIII'],\n",
       "              coeffs=[1.        +0.j, 0.0625    +0.j, 0.01234568+0.j, 1.        +0.j,\n",
       " 0.0625    +0.j, 1.        +0.j, 1.        +0.j, 0.0625    +0.j,\n",
       " 0.01234568+0.j, 1.        +0.j, 0.0625    +0.j, 1.        +0.j,\n",
       " 1.        +0.j, 0.0625    +0.j, 0.01234568+0.j, 1.        +0.j,\n",
       " 0.0625    +0.j, 1.        +0.j, 0.2       +0.j, 0.2       +0.j,\n",
       " 0.2       +0.j, 0.2       +0.j])"
      ]
     },
     "execution_count": 3,
     "metadata": {},
     "output_type": "execute_result"
    }
   ],
   "source": [
    "H = spin_ham.Power_law(4, alpha=4)\n",
    "H.ham"
   ]
  }
 ],
 "metadata": {
  "kernelspec": {
   "display_name": "Python 3.8.8 ('base')",
   "language": "python",
   "name": "python3"
  },
  "language_info": {
   "codemirror_mode": {
    "name": "ipython",
    "version": 3
   },
   "file_extension": ".py",
   "mimetype": "text/x-python",
   "name": "python",
   "nbconvert_exporter": "python",
   "pygments_lexer": "ipython3",
   "version": "3.10.14"
  },
  "vscode": {
   "interpreter": {
    "hash": "4e8ef2f9fcac0817bca9a7ca376f64f20b4df5ea3bf7af756a50bda7d3557ea6"
   }
  }
 },
 "nbformat": 4,
 "nbformat_minor": 5
}