{
 "cells": [
  {
   "cell_type": "code",
   "execution_count": 1,
   "id": "5482b331",
   "metadata": {},
   "outputs": [],
   "source": [
    "from qiskit.quantum_info import SparsePauliOp, random_pauli, random_hermitian, random_clifford, random_unitary"
   ]
  },
  {
   "cell_type": "code",
   "execution_count": 2,
   "id": "e88a7cc4",
   "metadata": {},
   "outputs": [
    {
     "data": {
      "text/plain": [
       "Pauli('XIY')"
      ]
     },
     "execution_count": 2,
     "metadata": {},
     "output_type": "execute_result"
    }
   ],
   "source": [
    "random_pauli(3)"
   ]
  },
  {
   "cell_type": "code",
   "execution_count": 3,
   "id": "aad2e009",
   "metadata": {},
   "outputs": [
    {
     "name": "stdout",
     "output_type": "stream",
     "text": [
      "Operator([[ 1.08564342+0.j        , -0.52346111+0.11397996j,\n",
      "            0.99938064-0.69718842j,  0.73354693-0.41191359j],\n",
      "          [-0.52346111-0.11397996j, -0.50678695+0.j        ,\n",
      "           -0.2980072 +0.10726738j, -0.79537324+0.33221158j],\n",
      "          [ 0.99938064+0.69718842j, -0.2980072 -0.10726738j,\n",
      "           -1.99104482+0.j        , -0.93285401+0.37498539j],\n",
      "          [ 0.73354693+0.41191359j, -0.79537324-0.33221158j,\n",
      "           -0.93285401-0.37498539j, -0.04521382+0.j        ]],\n",
      "         input_dims=(2, 2), output_dims=(2, 2))\n"
     ]
    }
   ],
   "source": [
    "random_hermitian(4)"
   ]
  },
  {
   "cell_type": "code",
   "execution_count": null,
   "id": "eb78baf6",
   "metadata": {},
   "outputs": [],
   "source": []
  },
  {
   "cell_type": "code",
   "execution_count": 4,
   "id": "7e01d90f",
   "metadata": {},
   "outputs": [
    {
     "data": {
      "text/plain": [
       "SparsePauliOp(['IIIZ', 'IIZI', 'IZII', 'ZIII'],\n",
       "              coeffs=[0.25+0.j, 0.25+0.j, 0.25+0.j, 0.25+0.j])"
      ]
     },
     "execution_count": 4,
     "metadata": {},
     "output_type": "execute_result"
    }
   ],
   "source": [
    "n  = 4\n",
    "magn_op = SparsePauliOp.from_sparse_list([('Z', [i], 1/n) for i in range(0, n)], n)\n",
    "corr_op = SparsePauliOp.from_sparse_list([('ZZ', [i,i+1], 1/(n-1)) for i in range(0, n-1)], n)\n",
    "magn_op"
   ]
  },
  {
   "cell_type": "code",
   "execution_count": 5,
   "id": "c2c270c4",
   "metadata": {},
   "outputs": [
    {
     "name": "stdout",
     "output_type": "stream",
     "text": [
      "Operator([[ 0.10000559-0.71830365j,  0.18379917-0.408031j  ,\n",
      "            0.31318423-0.39108731j,  0.14815192+0.02801216j],\n",
      "          [ 0.60001097+0.10953026j, -0.25978775-0.48103446j,\n",
      "           -0.49165482-0.15698406j, -0.23540379-0.08557292j],\n",
      "          [-0.0588361 -0.18416213j,  0.61316331-0.02295014j,\n",
      "           -0.65012978+0.23936479j,  0.32514956+0.02098103j],\n",
      "          [-0.21615928+0.13388986j,  0.12433786-0.32998315j,\n",
      "            0.00488492+0.05108621j, -0.30349771+0.84631871j]],\n",
      "         input_dims=(2, 2), output_dims=(2, 2))\n"
     ]
    }
   ],
   "source": [
    "random_unitary(4)"
   ]
  },
  {
   "cell_type": "code",
   "execution_count": 6,
   "id": "6f3ea6aa",
   "metadata": {},
   "outputs": [
    {
     "data": {
      "text/plain": [
       "Clifford(array([[ True, False,  True,  True, False, False,  True, False,  True],\n",
       "       [False,  True, False,  True,  True, False,  True, False, False],\n",
       "       [False,  True,  True, False, False,  True,  True, False, False],\n",
       "       [ True,  True,  True,  True,  True,  True,  True,  True,  True],\n",
       "       [ True,  True,  True, False, False,  True,  True,  True, False],\n",
       "       [False, False, False,  True,  True,  True,  True, False, False],\n",
       "       [False, False, False, False,  True, False,  True, False,  True],\n",
       "       [False,  True, False,  True,  True,  True, False,  True, False]]))"
      ]
     },
     "execution_count": 6,
     "metadata": {},
     "output_type": "execute_result"
    }
   ],
   "source": [
    "random_clifford(4)"
   ]
  }
 ],
 "metadata": {
  "kernelspec": {
   "display_name": "Python 3.8.8 ('base')",
   "language": "python",
   "name": "python3"
  },
  "language_info": {
   "codemirror_mode": {
    "name": "ipython",
    "version": 3
   },
   "file_extension": ".py",
   "mimetype": "text/x-python",
   "name": "python",
   "nbconvert_exporter": "python",
   "pygments_lexer": "ipython3",
   "version": "3.10.14"
  },
  "vscode": {
   "interpreter": {
    "hash": "4e8ef2f9fcac0817bca9a7ca376f64f20b4df5ea3bf7af756a50bda7d3557ea6"
   }
  }
 },
 "nbformat": 4,
 "nbformat_minor": 5
}