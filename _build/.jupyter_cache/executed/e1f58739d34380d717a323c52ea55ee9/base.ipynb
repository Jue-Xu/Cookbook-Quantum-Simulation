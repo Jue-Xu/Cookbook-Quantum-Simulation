{
 "cells": [
  {
   "cell_type": "code",
   "execution_count": 1,
   "id": "baa50aef",
   "metadata": {},
   "outputs": [],
   "source": [
    "# import quantum_simulation_recipe as qsr\n",
    "# from quantum_simulation_recipe import spin_ham\n",
    "from qiskit.quantum_info import Statevector"
   ]
  },
  {
   "cell_type": "code",
   "execution_count": 2,
   "id": "1225a418",
   "metadata": {},
   "outputs": [
    {
     "name": "stdout",
     "output_type": "stream",
     "text": [
      "product_vec:  Statevector([0.+0.j, 0.+0.j, 0.+0.j, 0.+0.j, 0.+0.j, 0.+0.j, 0.+0.j,\n",
      "             0.+0.j, 0.+0.j, 0.+0.j, 0.+0.j, 0.+0.j, 0.+0.j, 0.+0.j,\n",
      "             0.+0.j, 1.+0.j],\n",
      "            dims=(2, 2, 2, 2))\n"
     ]
    }
   ],
   "source": [
    "n = 4\n",
    "product_vec = Statevector.from_label('1'*n) # 0, 1, r, l\n",
    "print('product_vec: ', product_vec)"
   ]
  },
  {
   "cell_type": "code",
   "execution_count": 3,
   "id": "6a277348",
   "metadata": {},
   "outputs": [
    {
     "name": "stdout",
     "output_type": "stream",
     "text": [
      "[-0.09081579+0.12513075j  0.19769797-0.14667103j -0.28060377-0.12584223j\n",
      " -0.2751727 -0.39587669j -0.07633596-0.1410992j   0.00471524-0.09256986j\n",
      "  0.14260193-0.06328101j  0.16894435+0.01590109j -0.04954691+0.30859787j\n",
      "  0.32500897+0.01028549j  0.30726571+0.06728063j  0.05450585+0.07976649j\n",
      "  0.01127881+0.01900263j -0.30618225+0.0096613j   0.16725853-0.14290867j\n",
      "  0.20175574+0.07676475j]\n"
     ]
    }
   ],
   "source": [
    "from qiskit.quantum_info import random_statevector\n",
    "\n",
    "random_state = random_statevector(2**n).data\n",
    "print(random_state)"
   ]
  },
  {
   "cell_type": "code",
   "execution_count": 4,
   "id": "15c4f9c8",
   "metadata": {},
   "outputs": [
    {
     "name": "stdout",
     "output_type": "stream",
     "text": [
      "DensityMatrix([[ 0.58373403+2.08430915e-18j, -0.07331106-1.32731929e-01j,\n",
      "                 0.11552931+2.22411908e-01j,  0.01988641+8.75886022e-02j],\n",
      "               [-0.07331106+1.32731929e-01j,  0.11747843+2.86081041e-19j,\n",
      "                -0.07924569-4.57508090e-02j, -0.00093165+2.40173156e-03j],\n",
      "               [ 0.11552931-2.22411908e-01j, -0.07924569+4.57508090e-02j,\n",
      "                 0.21030716-2.57208051e-18j,  0.06945752+1.54699495e-02j],\n",
      "               [ 0.01988641-8.75886022e-02j, -0.00093165-2.40173156e-03j,\n",
      "                 0.06945752-1.54699495e-02j,  0.08848038+2.01690317e-19j]],\n",
      "              dims=(2, 2))\n"
     ]
    }
   ],
   "source": [
    "from qiskit.quantum_info import random_density_matrix\n",
    "\n",
    "random_density_matrix(4)"
   ]
  },
  {
   "cell_type": "code",
   "execution_count": null,
   "id": "5ef510dd",
   "metadata": {},
   "outputs": [],
   "source": []
  }
 ],
 "metadata": {
  "kernelspec": {
   "display_name": "Python 3.8.8 ('base')",
   "language": "python",
   "name": "python3"
  },
  "language_info": {
   "codemirror_mode": {
    "name": "ipython",
    "version": 3
   },
   "file_extension": ".py",
   "mimetype": "text/x-python",
   "name": "python",
   "nbconvert_exporter": "python",
   "pygments_lexer": "ipython3",
   "version": "3.10.14"
  },
  "vscode": {
   "interpreter": {
    "hash": "4e8ef2f9fcac0817bca9a7ca376f64f20b4df5ea3bf7af756a50bda7d3557ea6"
   }
  }
 },
 "nbformat": 4,
 "nbformat_minor": 5
}