{
 "cells": [
  {
   "cell_type": "code",
   "execution_count": 1,
   "id": "5482b331",
   "metadata": {},
   "outputs": [],
   "source": [
    "from qiskit import QuantumCircuit\n",
    "from qiskit_aer import AerSimulator\n",
    "from qiskit.quantum_info import Kraus, SuperOp, random_quantum_channel, PTM, Choi, Chi\n",
    "from qiskit.visualization import plot_histogram\n",
    "from qiskit.transpiler.preset_passmanagers import generate_preset_pass_manager\n",
    "\n",
    "# Import from Qiskit Aer noise module\n",
    "from qiskit_aer.noise import (\n",
    "    NoiseModel,\n",
    "    QuantumError,\n",
    "    ReadoutError,\n",
    "    depolarizing_error,\n",
    "    pauli_error,\n",
    "    thermal_relaxation_error,\n",
    ")"
   ]
  },
  {
   "cell_type": "code",
   "execution_count": 2,
   "id": "a4b2376e",
   "metadata": {},
   "outputs": [
    {
     "data": {
      "text/plain": [
       "Stinespring([[ 0.06885476+0.3910152j ,  0.20438933+0.05910322j],\n",
       "             [ 0.31245599+0.02311884j,  0.16757821-0.21559717j],\n",
       "             [-0.05263711-0.00905652j, -0.1945255 +0.53793483j],\n",
       "             [ 0.02102957-0.49189433j,  0.16111173-0.21351109j],\n",
       "             [ 0.29642876+0.22348274j, -0.10087805-0.28069541j],\n",
       "             [-0.34187756-0.00845965j, -0.20053018-0.31480756j],\n",
       "             [ 0.03999834+0.42614222j, -0.13431833-0.1325844j ],\n",
       "             [-0.24527358+0.02872948j,  0.46028553-0.07512615j]],\n",
       "            input_dims=(2,), output_dims=(2,))"
      ]
     },
     "execution_count": 2,
     "metadata": {},
     "output_type": "execute_result"
    }
   ],
   "source": [
    "## random quantum channel in Stinespring form\n",
    "from qiskit.quantum_info import random_quantum_channel\n",
    "random_quantum_channel(2, 2)"
   ]
  },
  {
   "cell_type": "code",
   "execution_count": 3,
   "id": "9eadfea1",
   "metadata": {},
   "outputs": [
    {
     "name": "stdout",
     "output_type": "stream",
     "text": [
      "num_qubits:  1\n"
     ]
    },
    {
     "data": {
      "text/plain": [
       "PTM([[ 1.00000000e+00+8.74076374e-18j,  5.89805982e-17-6.93889390e-18j,\n",
       "       3.46944695e-17+0.00000000e+00j, -1.11022302e-16-7.82562180e-18j],\n",
       "     [-2.86593783e-01+8.67361738e-19j,  1.47855987e-01+0.00000000e+00j,\n",
       "      -1.62431989e-01+0.00000000e+00j, -3.17758765e-01+8.67361738e-19j],\n",
       "     [ 1.47424935e-01+0.00000000e+00j, -1.62548064e-01+0.00000000e+00j,\n",
       "       1.31079590e-01+0.00000000e+00j, -1.30989106e-01+0.00000000e+00j],\n",
       "     [-6.63227365e-01-1.03564694e-17j,  2.69536560e-02+6.93889390e-18j,\n",
       "       1.06805607e-01+0.00000000e+00j, -4.01931013e-02+2.94093626e-18j]],\n",
       "    input_dims=(2,), output_dims=(2,))"
      ]
     },
     "execution_count": 3,
     "metadata": {},
     "output_type": "execute_result"
    }
   ],
   "source": [
    "rqc = PTM(random_quantum_channel(2, 2))\n",
    "print('num_qubits: ', rqc.num_qubits)\n",
    "rqc"
   ]
  },
  {
   "cell_type": "code",
   "execution_count": 4,
   "id": "d5e0cce4",
   "metadata": {},
   "outputs": [
    {
     "data": {
      "text/plain": [
       "PTM([[ 1.00000000e+00+2.46603379e-17j,  5.90692569e-17-8.17578003e-18j,\n",
       "       1.78040661e-17+2.91278054e-19j, -1.29846171e-16-5.30619143e-18j],\n",
       "     [-1.42168607e-01+1.20615869e-18j,  3.96996378e-02-1.92871932e-19j,\n",
       "      -7.92464783e-02+9.26390967e-20j, -1.29340044e-02+1.40164895e-18j],\n",
       "     [ 3.00210160e-01+2.50420322e-18j, -4.88710735e-02-1.93188549e-18j,\n",
       "       2.95944934e-02+0.00000000e+00j,  3.97459322e-02-1.67991037e-18j],\n",
       "     [-6.28549141e-01-1.96530991e-17j, -1.44591363e-02+5.42839465e-18j,\n",
       "       5.32905065e-03-8.12989857e-19j, -2.09396460e-02+2.77224004e-18j]],\n",
       "    input_dims=(2,), output_dims=(2,))"
      ]
     },
     "execution_count": 4,
     "metadata": {},
     "output_type": "execute_result"
    }
   ],
   "source": [
    "rqc.compose(rqc)"
   ]
  },
  {
   "cell_type": "code",
   "execution_count": 5,
   "id": "a656e232",
   "metadata": {},
   "outputs": [
    {
     "data": {
      "text/plain": [
       "True"
      ]
     },
     "execution_count": 5,
     "metadata": {},
     "output_type": "execute_result"
    }
   ],
   "source": [
    "rqc.power(4)\n",
    "rqc.adjoint()\n",
    "rqc.is_unitary()\n",
    "rqc.is_cptp() # cp, tp, unitary"
   ]
  },
  {
   "cell_type": "code",
   "execution_count": 6,
   "id": "a8692063",
   "metadata": {},
   "outputs": [
    {
     "data": {
      "text/plain": [
       "Kraus([[[-0.43707631-0.14516188j, -0.034397  +0.27381402j],\n",
       "        [ 0.24785798-0.06810455j, -0.08515486-0.18925227j]],\n",
       "\n",
       "       [[ 0.0379263 -0.00665024j, -0.16190967+0.02613112j],\n",
       "        [-0.25128186+0.00193994j,  0.19069565+0.07950482j]],\n",
       "\n",
       "       [[ 0.13031368+0.247972j  ,  0.68426905+0.12155623j],\n",
       "        [ 0.10067869+0.53356301j, -0.28467422+0.14111131j]],\n",
       "\n",
       "       [[ 0.51606571+0.00561311j, -0.15976635+0.26480532j],\n",
       "        [ 0.06668372+0.11442053j, -0.30541943+0.19573325j]]],\n",
       "      input_dims=(2,), output_dims=(2,))"
      ]
     },
     "execution_count": 6,
     "metadata": {},
     "output_type": "execute_result"
    }
   ],
   "source": [
    "from qiskit.quantum_info import Kraus\n",
    "rqc_kraus = Kraus(random_quantum_channel(2, 2))\n",
    "rqc_kraus"
   ]
  },
  {
   "cell_type": "code",
   "execution_count": 7,
   "id": "e31b9be2",
   "metadata": {},
   "outputs": [
    {
     "data": {
      "text/plain": [
       "SuperOp([[ 0.52026977-9.66067536e-18j,  0.10063323-1.76811433e-01j,\n",
       "           0.10063323+1.76811433e-01j,  0.32567927+7.52895145e-19j],\n",
       "         [ 0.03864309-4.79708656e-02j,  0.31098596-5.40737904e-02j,\n",
       "           0.08899708-1.02966869e-01j,  0.34797041+2.02380933e-01j],\n",
       "         [ 0.03864309+4.79708656e-02j,  0.08899708+1.02966869e-01j,\n",
       "           0.31098596+5.40737904e-02j,  0.34797041-2.02380933e-01j],\n",
       "         [ 0.47973023+1.13154920e-21j, -0.10063323+1.76811433e-01j,\n",
       "          -0.10063323-1.76811433e-01j,  0.67432073-1.06008950e-17j]],\n",
       "        input_dims=(2,), output_dims=(2,))"
      ]
     },
     "execution_count": 7,
     "metadata": {},
     "output_type": "execute_result"
    }
   ],
   "source": [
    "from qiskit.quantum_info import SuperOp\n",
    "rqc_superop = SuperOp(random_quantum_channel(2, 2))\n",
    "rqc_superop"
   ]
  },
  {
   "cell_type": "code",
   "execution_count": 8,
   "id": "5cb1724d",
   "metadata": {},
   "outputs": [
    {
     "data": {
      "text/plain": [
       "Choi([[ 0.62624433+1.58476117e-17j,  0.08534607-4.01810435e-02j,\n",
       "        0.23678685+3.01178015e-02j,  0.12303162-5.61603539e-02j],\n",
       "      [ 0.08534607+4.01810435e-02j,  0.37375567-6.10074507e-18j,\n",
       "        0.16896483-3.21122870e-02j, -0.23678685-3.01178015e-02j],\n",
       "      [ 0.23678685-3.01178015e-02j,  0.16896483+3.21122870e-02j,\n",
       "        0.54821592+2.32410142e-18j,  0.15737015-1.64499647e-01j],\n",
       "      [ 0.12303162+5.61603539e-02j, -0.23678685+3.01178015e-02j,\n",
       "        0.15737015+1.64499647e-01j,  0.45178408-3.47516213e-18j]],\n",
       "     input_dims=(2,), output_dims=(2,))"
      ]
     },
     "execution_count": 8,
     "metadata": {},
     "output_type": "execute_result"
    }
   ],
   "source": [
    "from qiskit.quantum_info import Choi\n",
    "\n",
    "rqc_choi = Choi(random_quantum_channel(2, 2))\n",
    "rqc_choi"
   ]
  },
  {
   "cell_type": "code",
   "execution_count": 9,
   "id": "88c545fd",
   "metadata": {},
   "outputs": [
    {
     "data": {
      "text/plain": [
       "Chi([[ 0.79836415+6.93889390e-18j, -0.03488378-7.09711601e-02j,\n",
       "      -0.0518835 +4.87656411e-01j,  0.02820931-1.12935664e-01j],\n",
       "     [-0.03488378+7.09711601e-02j,  0.41181799-6.93889390e-18j,\n",
       "      -0.05601561-2.82093077e-02j, -0.01635159-5.18835015e-02j],\n",
       "     [-0.0518835 -4.87656411e-01j, -0.05601561+2.82093077e-02j,\n",
       "       0.5439036 +6.93889390e-18j,  0.09223869+3.48837838e-02j],\n",
       "     [ 0.02820931+1.12935664e-01j, -0.01635159+5.18835015e-02j,\n",
       "       0.09223869-3.48837838e-02j,  0.24591426-2.08166817e-17j]],\n",
       "    input_dims=(2,), output_dims=(2,))"
      ]
     },
     "execution_count": 9,
     "metadata": {},
     "output_type": "execute_result"
    }
   ],
   "source": [
    "from qiskit.quantum_info import Chi\n",
    "rqc_chi = Chi(random_quantum_channel(2, 2))\n",
    "rqc_chi"
   ]
  },
  {
   "cell_type": "code",
   "execution_count": 10,
   "id": "1e31f7fc",
   "metadata": {},
   "outputs": [
    {
     "data": {
      "text/plain": [
       "0.5675002373830127"
      ]
     },
     "execution_count": 10,
     "metadata": {},
     "output_type": "execute_result"
    }
   ],
   "source": [
    "from qiskit.quantum_info import average_gate_fidelity\n",
    "average_gate_fidelity(random_quantum_channel(2, 2))"
   ]
  },
  {
   "cell_type": "code",
   "execution_count": 11,
   "id": "c19ce54b",
   "metadata": {},
   "outputs": [
    {
     "data": {
      "text/plain": [
       "0.40233711255718513"
      ]
     },
     "execution_count": 11,
     "metadata": {},
     "output_type": "execute_result"
    }
   ],
   "source": [
    "from qiskit.quantum_info import process_fidelity\n",
    "process_fidelity(random_quantum_channel(2, 2), random_quantum_channel(2, 2))"
   ]
  },
  {
   "cell_type": "code",
   "execution_count": 12,
   "id": "27913856",
   "metadata": {},
   "outputs": [
    {
     "data": {
      "text/plain": [
       "0.5587452460410387"
      ]
     },
     "execution_count": 12,
     "metadata": {},
     "output_type": "execute_result"
    }
   ],
   "source": [
    "from qiskit.quantum_info import gate_error\n",
    "gate_error(random_quantum_channel(2, 2))"
   ]
  },
  {
   "cell_type": "code",
   "execution_count": 13,
   "id": "a3ae5f49",
   "metadata": {},
   "outputs": [
    {
     "data": {
      "text/plain": [
       "1.203391603312065"
      ]
     },
     "execution_count": 13,
     "metadata": {},
     "output_type": "execute_result"
    }
   ],
   "source": [
    "from qiskit.quantum_info import diamond_norm\n",
    "diamond_norm(random_quantum_channel(2, 2)-random_quantum_channel(2, 2))"
   ]
  },
  {
   "cell_type": "code",
   "execution_count": 14,
   "id": "7e01d90f",
   "metadata": {},
   "outputs": [
    {
     "name": "stdout",
     "output_type": "stream",
     "text": [
      "QuantumError on 1 qubits. Noise circuits:\n",
      "  P(0) = 0.05, Circuit = \n",
      "   ┌───┐\n",
      "q: ┤ X ├\n",
      "   └───┘\n",
      "  P(1) = 0.95, Circuit = \n",
      "   ┌───┐\n",
      "q: ┤ I ├\n",
      "   └───┘\n",
      "QuantumError on 1 qubits. Noise circuits:\n",
      "  P(0) = 0.05, Circuit = \n",
      "   ┌───┐\n",
      "q: ┤ Z ├\n",
      "   └───┘\n",
      "  P(1) = 0.95, Circuit = \n",
      "   ┌───┐\n",
      "q: ┤ I ├\n",
      "   └───┘\n"
     ]
    }
   ],
   "source": [
    "# Construct a 1-qubit bit-flip and phase-flip errors\n",
    "p_error = 0.05\n",
    "bit_flip = pauli_error([('X', p_error), ('I', 1 - p_error)])\n",
    "phase_flip = pauli_error([('Z', p_error), ('I', 1 - p_error)])\n",
    "print(bit_flip)\n",
    "print(phase_flip)"
   ]
  },
  {
   "cell_type": "code",
   "execution_count": 15,
   "id": "7c6e6e01",
   "metadata": {},
   "outputs": [
    {
     "name": "stdout",
     "output_type": "stream",
     "text": [
      "QuantumError on 1 qubits. Noise circuits:\n",
      "  P(0) = 0.0025000000000000005, Circuit = \n",
      "   ┌───┐┌───┐\n",
      "q: ┤ X ├┤ Z ├\n",
      "   └───┘└───┘\n",
      "  P(1) = 0.0475, Circuit = \n",
      "   ┌───┐┌───┐\n",
      "q: ┤ X ├┤ I ├\n",
      "   └───┘└───┘\n",
      "  P(2) = 0.0475, Circuit = \n",
      "   ┌───┐┌───┐\n",
      "q: ┤ I ├┤ Z ├\n",
      "   └───┘└───┘\n",
      "  P(3) = 0.9025, Circuit = \n",
      "   ┌───┐┌───┐\n",
      "q: ┤ I ├┤ I ├\n",
      "   └───┘└───┘\n"
     ]
    }
   ],
   "source": [
    "# Compose two bit-flip and phase-flip errors\n",
    "bitphase_flip = bit_flip.compose(phase_flip)\n",
    "print(bitphase_flip)"
   ]
  },
  {
   "cell_type": "code",
   "execution_count": 16,
   "id": "befa5ca0",
   "metadata": {},
   "outputs": [
    {
     "name": "stdout",
     "output_type": "stream",
     "text": [
      "QuantumError on 2 qubits. Noise circuits:\n",
      "  P(0) = 0.0025000000000000005, Circuit = \n",
      "     ┌───┐\n",
      "q_0: ┤ X ├\n",
      "     ├───┤\n",
      "q_1: ┤ Z ├\n",
      "     └───┘\n",
      "  P(1) = 0.0475, Circuit = \n",
      "     ┌───┐\n",
      "q_0: ┤ I ├\n",
      "     ├───┤\n",
      "q_1: ┤ Z ├\n",
      "     └───┘\n",
      "  P(2) = 0.0475, Circuit = \n",
      "     ┌───┐\n",
      "q_0: ┤ X ├\n",
      "     ├───┤\n",
      "q_1: ┤ I ├\n",
      "     └───┘\n",
      "  P(3) = 0.9025, Circuit = \n",
      "     ┌───┐\n",
      "q_0: ┤ I ├\n",
      "     ├───┤\n",
      "q_1: ┤ I ├\n",
      "     └───┘\n"
     ]
    }
   ],
   "source": [
    "# Tensor product two bit-flip and phase-flip errors with\n",
    "# bit-flip on qubit-0, phase-flip on qubit-1\n",
    "error2 = phase_flip.tensor(bit_flip)\n",
    "print(error2)"
   ]
  },
  {
   "cell_type": "code",
   "execution_count": 17,
   "id": "3fc5bd41",
   "metadata": {},
   "outputs": [
    {
     "name": "stdout",
     "output_type": "stream",
     "text": [
      "Kraus([[[ 9.74679434e-01+0.j,  0.00000000e+00+0.j],\n",
      "        [ 0.00000000e+00+0.j,  9.74679434e-01+0.j]],\n",
      "\n",
      "       [[ 0.00000000e+00+0.j,  2.23606798e-01+0.j],\n",
      "        [ 2.23606798e-01+0.j, -4.96506831e-17+0.j]]],\n",
      "      input_dims=(2,), output_dims=(2,))\n"
     ]
    }
   ],
   "source": [
    "# Convert to Kraus operator\n",
    "bit_flip_kraus = Kraus(bit_flip)\n",
    "print(bit_flip_kraus)"
   ]
  },
  {
   "cell_type": "code",
   "execution_count": 18,
   "id": "a39bbb13",
   "metadata": {},
   "outputs": [
    {
     "name": "stdout",
     "output_type": "stream",
     "text": [
      "SuperOp([[1. +0.j, 0. +0.j, 0. +0.j, 0. +0.j],\n",
      "         [0. +0.j, 0.9+0.j, 0. +0.j, 0. +0.j],\n",
      "         [0. +0.j, 0. +0.j, 0.9+0.j, 0. +0.j],\n",
      "         [0. +0.j, 0. +0.j, 0. +0.j, 1. +0.j]],\n",
      "        input_dims=(2,), output_dims=(2,))\n"
     ]
    }
   ],
   "source": [
    "# Convert to Superoperator\n",
    "phase_flip_sop = SuperOp(phase_flip)\n",
    "print(phase_flip_sop)"
   ]
  },
  {
   "cell_type": "code",
   "execution_count": 19,
   "id": "3386eb9e",
   "metadata": {},
   "outputs": [
    {
     "name": "stdout",
     "output_type": "stream",
     "text": [
      "QuantumError on 1 qubits. Noise circuits:\n",
      "  P(0) = 1.0, Circuit = \n",
      "   ┌───────┐\n",
      "q: ┤ kraus ├\n",
      "   └───────┘\n"
     ]
    },
    {
     "data": {
      "text/plain": [
       "True"
      ]
     },
     "execution_count": 19,
     "metadata": {},
     "output_type": "execute_result"
    }
   ],
   "source": [
    "# Convert back to a quantum error\n",
    "print(QuantumError(bit_flip_kraus))\n",
    " \n",
    "# Check conversion is equivalent to original error\n",
    "QuantumError(bit_flip_kraus) == bit_flip"
   ]
  },
  {
   "cell_type": "code",
   "execution_count": 20,
   "id": "d8962964",
   "metadata": {},
   "outputs": [
    {
     "data": {
      "text/plain": [
       "ReadoutError([[0.95 0.05]\n",
       " [0.1  0.9 ]])"
      ]
     },
     "execution_count": 20,
     "metadata": {},
     "output_type": "execute_result"
    }
   ],
   "source": [
    "# Measurement misassignment probabilities\n",
    "p0given1 = 0.1\n",
    "p1given0 = 0.05\n",
    " \n",
    "ReadoutError([[1 - p1given0, p1given0], [p0given1, 1 - p0given1]])"
   ]
  },
  {
   "cell_type": "code",
   "execution_count": 21,
   "id": "36ce10f5",
   "metadata": {},
   "outputs": [
    {
     "name": "stdout",
     "output_type": "stream",
     "text": [
      "        ┌───┐                ░ ┌─┐         \n",
      "   q_0: ┤ H ├──■─────────────░─┤M├─────────\n",
      "        └───┘┌─┴─┐           ░ └╥┘┌─┐      \n",
      "   q_1: ─────┤ X ├──■────────░──╫─┤M├──────\n",
      "             └───┘┌─┴─┐      ░  ║ └╥┘┌─┐   \n",
      "   q_2: ──────────┤ X ├──■───░──╫──╫─┤M├───\n",
      "                  └───┘┌─┴─┐ ░  ║  ║ └╥┘┌─┐\n",
      "   q_3: ───────────────┤ X ├─░──╫──╫──╫─┤M├\n",
      "                       └───┘ ░  ║  ║  ║ └╥┘\n",
      "meas: 4/════════════════════════╩══╩══╩══╩═\n",
      "                                0  1  2  3 \n"
     ]
    }
   ],
   "source": [
    "# System Specification\n",
    "n_qubits = 4\n",
    "circ = QuantumCircuit(n_qubits)\n",
    " \n",
    "# Test Circuit\n",
    "circ.h(0)\n",
    "for qubit in range(n_qubits - 1):\n",
    "    circ.cx(qubit, qubit + 1)\n",
    "circ.measure_all()\n",
    "print(circ)"
   ]
  },
  {
   "cell_type": "code",
   "execution_count": 22,
   "id": "1d357ee3",
   "metadata": {},
   "outputs": [
    {
     "data": {
      "image/png": "[encoded data removed]",
      "text/plain": [
       "<Figure size 700x500 with 1 Axes>"
      ]
     },
     "execution_count": 22,
     "metadata": {
      "image/png": {
       "height": 467,
       "width": 633
      }
     },
     "output_type": "execute_result"
    }
   ],
   "source": [
    "# Ideal simulator and execution\n",
    "sim_ideal = AerSimulator()\n",
    "result_ideal = sim_ideal.run(circ).result()\n",
    "plot_histogram(result_ideal.get_counts(0))"
   ]
  },
  {
   "cell_type": "code",
   "execution_count": 23,
   "id": "211fd0ba",
   "metadata": {},
   "outputs": [
    {
     "name": "stdout",
     "output_type": "stream",
     "text": [
      "NoiseModel:\n",
      "  Basis gates: ['cx', 'id', 'rz', 'sx', 'u1', 'u2', 'u3']\n",
      "  Instructions with noise: ['measure', 'reset', 'u3', 'cx', 'u1', 'u2']\n",
      "  All-qubits errors: ['reset', 'measure', 'u1', 'u2', 'u3', 'cx']\n"
     ]
    }
   ],
   "source": [
    "# Example error probabilities\n",
    "p_reset = 0.03\n",
    "p_meas = 0.1\n",
    "p_gate1 = 0.05\n",
    " \n",
    "# QuantumError objects\n",
    "error_reset = pauli_error([('X', p_reset), ('I', 1 - p_reset)])\n",
    "error_meas = pauli_error([('X',p_meas), ('I', 1 - p_meas)])\n",
    "error_gate1 = pauli_error([('X',p_gate1), ('I', 1 - p_gate1)])\n",
    "error_gate2 = error_gate1.tensor(error_gate1)\n",
    " \n",
    "# Add errors to noise model\n",
    "noise_bit_flip = NoiseModel()\n",
    "noise_bit_flip.add_all_qubit_quantum_error(error_reset, \"reset\")\n",
    "noise_bit_flip.add_all_qubit_quantum_error(error_meas, \"measure\")\n",
    "noise_bit_flip.add_all_qubit_quantum_error(error_gate1, [\"u1\", \"u2\", \"u3\"])\n",
    "noise_bit_flip.add_all_qubit_quantum_error(error_gate2, [\"cx\"])\n",
    " \n",
    "print(noise_bit_flip)"
   ]
  },
  {
   "cell_type": "code",
   "execution_count": 24,
   "id": "8103d7dc",
   "metadata": {},
   "outputs": [
    {
     "name": "stderr",
     "output_type": "stream",
     "text": [
      "/opt/homebrew/Caskroom/miniforge/base/lib/python3.10/site-packages/numpy/linalg/linalg.py:2154: RuntimeWarning: divide by zero encountered in det\n",
      "  r = _umath_linalg.det(a, signature=signature)\n",
      "/opt/homebrew/Caskroom/miniforge/base/lib/python3.10/site-packages/numpy/linalg/linalg.py:2154: RuntimeWarning: invalid value encountered in det\n",
      "  r = _umath_linalg.det(a, signature=signature)\n"
     ]
    },
    {
     "data": {
      "image/png": "[encoded data removed]",
      "text/plain": [
       "<Figure size 700x500 with 1 Axes>"
      ]
     },
     "execution_count": 24,
     "metadata": {
      "image/png": {
       "height": 467,
       "width": 633
      }
     },
     "output_type": "execute_result"
    }
   ],
   "source": [
    "# Create noisy simulator backend\n",
    "sim_noise = AerSimulator(noise_model=noise_bit_flip)\n",
    " \n",
    "# Transpile circuit for noisy basis gates\n",
    "passmanager = generate_preset_pass_manager(optimization_level=3, backend=sim_noise)\n",
    "circ_tnoise = passmanager.run(circ)\n",
    " \n",
    "# Run and get counts\n",
    "result_bit_flip = sim_noise.run(circ_tnoise).result()\n",
    "counts_bit_flip = result_bit_flip.get_counts(0)\n",
    " \n",
    "# Plot noisy output\n",
    "plot_histogram(counts_bit_flip)"
   ]
  }
 ],
 "metadata": {
  "kernelspec": {
   "display_name": "Python 3.8.8 ('base')",
   "language": "python",
   "name": "python3"
  },
  "language_info": {
   "codemirror_mode": {
    "name": "ipython",
    "version": 3
   },
   "file_extension": ".py",
   "mimetype": "text/x-python",
   "name": "python",
   "nbconvert_exporter": "python",
   "pygments_lexer": "ipython3",
   "version": "3.10.14"
  },
  "vscode": {
   "interpreter": {
    "hash": "4e8ef2f9fcac0817bca9a7ca376f64f20b4df5ea3bf7af756a50bda7d3557ea6"
   }
  }
 },
 "nbformat": 4,
 "nbformat_minor": 5
}