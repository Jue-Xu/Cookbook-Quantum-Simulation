{
 "cells": [
  {
   "cell_type": "code",
   "execution_count": 1,
   "id": "5482b331",
   "metadata": {},
   "outputs": [],
   "source": [
    "from qiskit import QuantumCircuit\n",
    "from qiskit_aer import AerSimulator\n",
    "from qiskit.quantum_info import Kraus, SuperOp, random_quantum_channel, PTM, Choi, Chi\n",
    "from qiskit.visualization import plot_histogram\n",
    "from qiskit.transpiler.preset_passmanagers import generate_preset_pass_manager\n",
    "\n",
    "# Import from Qiskit Aer noise module\n",
    "from qiskit_aer.noise import (\n",
    "    NoiseModel,\n",
    "    QuantumError,\n",
    "    ReadoutError,\n",
    "    depolarizing_error,\n",
    "    pauli_error,\n",
    "    thermal_relaxation_error,\n",
    ")"
   ]
  },
  {
   "cell_type": "code",
   "execution_count": 2,
   "id": "a4b2376e",
   "metadata": {},
   "outputs": [
    {
     "data": {
      "text/plain": [
       "Stinespring([[-0.05760772+0.00106509j, -0.19350963-0.0401619j ],\n",
       "             [ 0.24365713-0.09010473j, -0.08502675+0.15826805j],\n",
       "             [ 0.23490127-0.15828181j,  0.24164486-0.63383471j],\n",
       "             [-0.49953996-0.40729664j,  0.33613988-0.13725047j],\n",
       "             [-0.23165985-0.1400763j , -0.241295  +0.13371234j],\n",
       "             [-0.1796485 +0.50822143j,  0.19129119-0.13145751j],\n",
       "             [-0.04028069+0.14143228j,  0.25705094+0.259912j  ],\n",
       "             [-0.12779897+0.17810568j, -0.25469481-0.0906741j ]],\n",
       "            input_dims=(2,), output_dims=(2,))"
      ]
     },
     "execution_count": 2,
     "metadata": {},
     "output_type": "execute_result"
    }
   ],
   "source": [
    "## random quantum channel in Stinespring form\n",
    "from qiskit.quantum_info import random_quantum_channel\n",
    "random_quantum_channel(2, 2)"
   ]
  },
  {
   "cell_type": "code",
   "execution_count": 3,
   "id": "9eadfea1",
   "metadata": {},
   "outputs": [
    {
     "name": "stdout",
     "output_type": "stream",
     "text": [
      "num_qubits:  1\n"
     ]
    },
    {
     "data": {
      "text/plain": [
       "PTM([[ 1.00000000e+00-4.01384889e-18j,  0.00000000e+00-1.38777878e-17j,\n",
       "      -1.38777878e-17+0.00000000e+00j, -1.11022302e-16-5.44312317e-18j],\n",
       "     [-1.53725014e-01+0.00000000e+00j, -4.46499899e-01+0.00000000e+00j,\n",
       "      -4.70591410e-01+0.00000000e+00j,  3.05936384e-01+0.00000000e+00j],\n",
       "     [-1.27485259e-01+0.00000000e+00j,  2.56194680e-01+0.00000000e+00j,\n",
       "      -7.99948838e-02+0.00000000e+00j,  6.13231363e-01+0.00000000e+00j],\n",
       "     [ 1.09430915e-01-3.90780595e-18j, -4.06349554e-01+2.77555756e-17j,\n",
       "       3.85837626e-01+0.00000000e+00j,  3.55899224e-01-6.57271250e-18j]],\n",
       "    input_dims=(2,), output_dims=(2,))"
      ]
     },
     "execution_count": 3,
     "metadata": {},
     "output_type": "execute_result"
    }
   ],
   "source": [
    "rqc = PTM(random_quantum_channel(2, 2))\n",
    "print('num_qubits: ', rqc.num_qubits)\n",
    "rqc"
   ]
  },
  {
   "cell_type": "code",
   "execution_count": 4,
   "id": "d5e0cce4",
   "metadata": {},
   "outputs": [
    {
     "data": {
      "text/plain": [
       "PTM([[ 1.00000000e+00-6.48998061e-18j,  4.15584477e-17-5.46954628e-18j,\n",
       "      -5.56042174e-17+4.43060601e-18j, -1.59045349e-16-1.16260467e-17j],\n",
       "     [ 8.38555556e-03-5.78511045e-19j, -4.55179698e-02+1.06248036e-17j,\n",
       "       3.65805691e-01+0.00000000e+00j, -3.16299455e-01-1.17408771e-18j],\n",
       "     [-8.95641523e-02-1.88468260e-18j, -3.84071454e-01+1.87898029e-17j,\n",
       "       1.22443899e-01+0.00000000e+00j,  2.47572469e-01-3.33667548e-18j],\n",
       "     [ 1.61654774e-01-1.07238144e-17j,  1.35665091e-01-1.36251410e-18j,\n",
       "       2.97678886e-01-1.55975353e-17j,  2.38954878e-01+3.21734794e-18j]],\n",
       "    input_dims=(2,), output_dims=(2,))"
      ]
     },
     "execution_count": 4,
     "metadata": {},
     "output_type": "execute_result"
    }
   ],
   "source": [
    "rqc.compose(rqc)"
   ]
  },
  {
   "cell_type": "code",
   "execution_count": 5,
   "id": "a656e232",
   "metadata": {},
   "outputs": [
    {
     "data": {
      "text/plain": [
       "True"
      ]
     },
     "execution_count": 5,
     "metadata": {},
     "output_type": "execute_result"
    }
   ],
   "source": [
    "rqc.power(4)\n",
    "rqc.adjoint()\n",
    "rqc.is_unitary()\n",
    "rqc.is_cptp() # cp, tp, unitary"
   ]
  },
  {
   "cell_type": "code",
   "execution_count": 6,
   "id": "a8692063",
   "metadata": {},
   "outputs": [
    {
     "data": {
      "text/plain": [
       "Kraus([[[-0.17941934-0.19947241j,  0.56582495-0.07551515j],\n",
       "        [ 0.07241651-0.02233852j, -0.01348322+0.16554775j]],\n",
       "\n",
       "       [[ 0.4246768 +0.17407772j,  0.22289218+0.26345085j],\n",
       "        [-0.2122798 -0.22752199j, -0.07116099-0.13966675j]],\n",
       "\n",
       "       [[-0.04528953+0.60580496j,  0.06824045+0.07371949j],\n",
       "        [ 0.2525324 -0.04565637j,  0.02473258+0.10779692j]],\n",
       "\n",
       "       [[ 0.09352321-0.39500915j, -0.4359677 +0.1497757j ],\n",
       "        [ 0.11908917+0.03041284j, -0.20835034-0.47398324j]]],\n",
       "      input_dims=(2,), output_dims=(2,))"
      ]
     },
     "execution_count": 6,
     "metadata": {},
     "output_type": "execute_result"
    }
   ],
   "source": [
    "from qiskit.quantum_info import Kraus\n",
    "rqc_kraus = Kraus(random_quantum_channel(2, 2))\n",
    "rqc_kraus"
   ]
  },
  {
   "cell_type": "code",
   "execution_count": 7,
   "id": "e31b9be2",
   "metadata": {},
   "outputs": [
    {
     "data": {
      "text/plain": [
       "SuperOp([[ 0.64214034+9.27527515e-18j,  0.16489422-8.84075857e-02j,\n",
       "           0.16489422+8.84075857e-02j,  0.51461971+3.86907564e-18j],\n",
       "         [-0.03290193-2.89094323e-02j, -0.22882478+1.82662407e-01j,\n",
       "           0.07532535-2.32493105e-01j, -0.21609686+5.06825265e-02j],\n",
       "         [-0.03290193+2.89094323e-02j,  0.07532535+2.32493105e-01j,\n",
       "          -0.22882478-1.82662407e-01j, -0.21609686-5.06825265e-02j],\n",
       "         [ 0.35785966-5.76426351e-18j, -0.16489422+8.84075857e-02j,\n",
       "          -0.16489422-8.84075857e-02j,  0.48538029-1.77327844e-18j]],\n",
       "        input_dims=(2,), output_dims=(2,))"
      ]
     },
     "execution_count": 7,
     "metadata": {},
     "output_type": "execute_result"
    }
   ],
   "source": [
    "from qiskit.quantum_info import SuperOp\n",
    "rqc_superop = SuperOp(random_quantum_channel(2, 2))\n",
    "rqc_superop"
   ]
  },
  {
   "cell_type": "code",
   "execution_count": 8,
   "id": "5cb1724d",
   "metadata": {},
   "outputs": [
    {
     "data": {
      "text/plain": [
       "Choi([[ 0.72262348+1.00484506e-18j, -0.17478786-2.34800356e-01j,\n",
       "        0.00209029-3.71371876e-02j, -0.01886255-3.08231704e-01j],\n",
       "      [-0.17478786+2.34800356e-01j,  0.27737652-8.22472202e-19j,\n",
       "        0.11520672+1.31236789e-01j, -0.00209029+3.71371876e-02j],\n",
       "      [ 0.00209029+3.71371876e-02j,  0.11520672-1.31236789e-01j,\n",
       "        0.56322081-1.01601546e-17j, -0.21951808+2.04505367e-02j],\n",
       "      [-0.01886255+3.08231704e-01j, -0.00209029-3.71371876e-02j,\n",
       "       -0.21951808-2.04505367e-02j,  0.43677919+7.00393374e-19j]],\n",
       "     input_dims=(2,), output_dims=(2,))"
      ]
     },
     "execution_count": 8,
     "metadata": {},
     "output_type": "execute_result"
    }
   ],
   "source": [
    "from qiskit.quantum_info import Choi\n",
    "\n",
    "rqc_choi = Choi(random_quantum_channel(2, 2))\n",
    "rqc_choi"
   ]
  },
  {
   "cell_type": "code",
   "execution_count": 9,
   "id": "88c545fd",
   "metadata": {},
   "outputs": [
    {
     "data": {
      "text/plain": [
       "Chi([[ 0.23488927+0.00000000e+00j, -0.10118734-1.76615153e-01j,\n",
       "      -0.22077932-1.13171400e-01j, -0.13785354+1.07178903e-01j],\n",
       "     [-0.10118734+1.76615153e-01j,  0.55362796-6.93889390e-18j,\n",
       "      -0.09052323+1.37853541e-01j, -0.17748885-2.20779316e-01j],\n",
       "     [-0.22077932+1.13171400e-01j, -0.09052323-1.37853541e-01j,\n",
       "       0.80167029-6.93889390e-18j, -0.00108296+1.01187340e-01j],\n",
       "     [-0.13785354-1.07178903e-01j, -0.17748885+2.20779316e-01j,\n",
       "      -0.00108296-1.01187340e-01j,  0.40981248+0.00000000e+00j]],\n",
       "    input_dims=(2,), output_dims=(2,))"
      ]
     },
     "execution_count": 9,
     "metadata": {},
     "output_type": "execute_result"
    }
   ],
   "source": [
    "from qiskit.quantum_info import Chi\n",
    "rqc_chi = Chi(random_quantum_channel(2, 2))\n",
    "rqc_chi"
   ]
  },
  {
   "cell_type": "code",
   "execution_count": 10,
   "id": "1e31f7fc",
   "metadata": {},
   "outputs": [
    {
     "data": {
      "text/plain": [
       "0.3758783814644344"
      ]
     },
     "execution_count": 10,
     "metadata": {},
     "output_type": "execute_result"
    }
   ],
   "source": [
    "from qiskit.quantum_info import average_gate_fidelity\n",
    "average_gate_fidelity(random_quantum_channel(2, 2))"
   ]
  },
  {
   "cell_type": "code",
   "execution_count": 11,
   "id": "c19ce54b",
   "metadata": {},
   "outputs": [
    {
     "data": {
      "text/plain": [
       "0.628338852898806"
      ]
     },
     "execution_count": 11,
     "metadata": {},
     "output_type": "execute_result"
    }
   ],
   "source": [
    "from qiskit.quantum_info import process_fidelity\n",
    "process_fidelity(random_quantum_channel(2, 2), random_quantum_channel(2, 2))"
   ]
  },
  {
   "cell_type": "code",
   "execution_count": 12,
   "id": "27913856",
   "metadata": {},
   "outputs": [
    {
     "data": {
      "text/plain": [
       "0.5242513260008301"
      ]
     },
     "execution_count": 12,
     "metadata": {},
     "output_type": "execute_result"
    }
   ],
   "source": [
    "from qiskit.quantum_info import gate_error\n",
    "gate_error(random_quantum_channel(2, 2))"
   ]
  },
  {
   "cell_type": "code",
   "execution_count": 13,
   "id": "a3ae5f49",
   "metadata": {},
   "outputs": [
    {
     "name": "stdout",
     "output_type": "stream",
     "text": [
      "QuantumError on 1 qubits. Noise circuits:\n",
      "  P(0) = 0.01, Circuit = \n",
      "   ┌───┐\n",
      "q: ┤ X ├\n",
      "   └───┘\n",
      "  P(1) = 0.01, Circuit = \n",
      "   ┌───┐\n",
      "q: ┤ Y ├\n",
      "   └───┘\n",
      "  P(2) = 0.01, Circuit = \n",
      "   ┌───┐\n",
      "q: ┤ Z ├\n",
      "   └───┘\n",
      "  P(3) = 0.97, Circuit = \n",
      "   ┌───┐\n",
      "q: ┤ I ├\n",
      "   └───┘\n",
      "diamond distance: 0.06000010519101877 with noise rate 0.03\n"
     ]
    }
   ],
   "source": [
    "from qiskit.quantum_info import diamond_norm, random_quantum_channel\n",
    "diamond_norm(random_quantum_channel(2, 2)-random_quantum_channel(2, 2))\n",
    "\n",
    "from qiskit.quantum_info import diamond_norm, random_quantum_channel\n",
    "from qiskit.quantum_info import Kraus, SuperOp, PTM\n",
    "\n",
    "# diamond_norm(random_quantum_channel(2, 2)-random_quantum_channel(2, 2))\n",
    "## single qubit depolarizing channel\n",
    "from qiskit_aer.noise import (pauli_error)\n",
    "# error = depolarizing_error(0.05, 1)\n",
    "# error\n",
    "p_error = 0.03\n",
    "ic = pauli_error([('I', 1)])\n",
    "dep_err = pauli_error([('X', p_error/3), ('Y', p_error/3), ('Z', p_error/3), ('I', 1 - p_error)])\n",
    "print(dep_err)\n",
    "dep_ptm = PTM(dep_err)\n",
    "dep_ptm\n",
    "print(f'diamond distance: {diamond_norm(dep_ptm - ic)} with noise rate {p_error}')"
   ]
  },
  {
   "cell_type": "code",
   "execution_count": 14,
   "id": "7e01d90f",
   "metadata": {},
   "outputs": [
    {
     "name": "stdout",
     "output_type": "stream",
     "text": [
      "QuantumError on 1 qubits. Noise circuits:\n",
      "  P(0) = 0.05, Circuit = \n",
      "   ┌───┐\n",
      "q: ┤ X ├\n",
      "   └───┘\n",
      "  P(1) = 0.95, Circuit = \n",
      "   ┌───┐\n",
      "q: ┤ I ├\n",
      "   └───┘\n",
      "QuantumError on 1 qubits. Noise circuits:\n",
      "  P(0) = 0.05, Circuit = \n",
      "   ┌───┐\n",
      "q: ┤ Z ├\n",
      "   └───┘\n",
      "  P(1) = 0.95, Circuit = \n",
      "   ┌───┐\n",
      "q: ┤ I ├\n",
      "   └───┘\n"
     ]
    }
   ],
   "source": [
    "# Construct a 1-qubit bit-flip and phase-flip errors\n",
    "p_error = 0.05\n",
    "bit_flip = pauli_error([('X', p_error), ('I', 1 - p_error)])\n",
    "phase_flip = pauli_error([('Z', p_error), ('I', 1 - p_error)])\n",
    "print(bit_flip)\n",
    "print(phase_flip)"
   ]
  },
  {
   "cell_type": "code",
   "execution_count": 15,
   "id": "7c6e6e01",
   "metadata": {},
   "outputs": [
    {
     "name": "stdout",
     "output_type": "stream",
     "text": [
      "QuantumError on 1 qubits. Noise circuits:\n",
      "  P(0) = 0.0025000000000000005, Circuit = \n",
      "   ┌───┐┌───┐\n",
      "q: ┤ X ├┤ Z ├\n",
      "   └───┘└───┘\n",
      "  P(1) = 0.0475, Circuit = \n",
      "   ┌───┐┌───┐\n",
      "q: ┤ X ├┤ I ├\n",
      "   └───┘└───┘\n",
      "  P(2) = 0.0475, Circuit = \n",
      "   ┌───┐┌───┐\n",
      "q: ┤ I ├┤ Z ├\n",
      "   └───┘└───┘\n",
      "  P(3) = 0.9025, Circuit = \n",
      "   ┌───┐┌───┐\n",
      "q: ┤ I ├┤ I ├\n",
      "   └───┘└───┘\n"
     ]
    }
   ],
   "source": [
    "# Compose two bit-flip and phase-flip errors\n",
    "bitphase_flip = bit_flip.compose(phase_flip)\n",
    "print(bitphase_flip)"
   ]
  },
  {
   "cell_type": "code",
   "execution_count": 16,
   "id": "befa5ca0",
   "metadata": {},
   "outputs": [
    {
     "name": "stdout",
     "output_type": "stream",
     "text": [
      "QuantumError on 2 qubits. Noise circuits:\n",
      "  P(0) = 0.0025000000000000005, Circuit = \n",
      "     ┌───┐\n",
      "q_0: ┤ X ├\n",
      "     ├───┤\n",
      "q_1: ┤ Z ├\n",
      "     └───┘\n",
      "  P(1) = 0.0475, Circuit = \n",
      "     ┌───┐\n",
      "q_0: ┤ I ├\n",
      "     ├───┤\n",
      "q_1: ┤ Z ├\n",
      "     └───┘\n",
      "  P(2) = 0.0475, Circuit = \n",
      "     ┌───┐\n",
      "q_0: ┤ X ├\n",
      "     ├───┤\n",
      "q_1: ┤ I ├\n",
      "     └───┘\n",
      "  P(3) = 0.9025, Circuit = \n",
      "     ┌───┐\n",
      "q_0: ┤ I ├\n",
      "     ├───┤\n",
      "q_1: ┤ I ├\n",
      "     └───┘\n"
     ]
    }
   ],
   "source": [
    "# Tensor product two bit-flip and phase-flip errors with\n",
    "# bit-flip on qubit-0, phase-flip on qubit-1\n",
    "error2 = phase_flip.tensor(bit_flip)\n",
    "print(error2)"
   ]
  },
  {
   "cell_type": "code",
   "execution_count": 17,
   "id": "3fc5bd41",
   "metadata": {},
   "outputs": [
    {
     "name": "stdout",
     "output_type": "stream",
     "text": [
      "Kraus([[[ 9.74679434e-01+0.j,  0.00000000e+00+0.j],\n",
      "        [ 0.00000000e+00+0.j,  9.74679434e-01+0.j]],\n",
      "\n",
      "       [[ 0.00000000e+00+0.j,  2.23606798e-01+0.j],\n",
      "        [ 2.23606798e-01+0.j, -4.96506831e-17+0.j]]],\n",
      "      input_dims=(2,), output_dims=(2,))\n"
     ]
    }
   ],
   "source": [
    "# Convert to Kraus operator\n",
    "bit_flip_kraus = Kraus(bit_flip)\n",
    "print(bit_flip_kraus)"
   ]
  },
  {
   "cell_type": "code",
   "execution_count": 18,
   "id": "a39bbb13",
   "metadata": {},
   "outputs": [
    {
     "name": "stdout",
     "output_type": "stream",
     "text": [
      "SuperOp([[1. +0.j, 0. +0.j, 0. +0.j, 0. +0.j],\n",
      "         [0. +0.j, 0.9+0.j, 0. +0.j, 0. +0.j],\n",
      "         [0. +0.j, 0. +0.j, 0.9+0.j, 0. +0.j],\n",
      "         [0. +0.j, 0. +0.j, 0. +0.j, 1. +0.j]],\n",
      "        input_dims=(2,), output_dims=(2,))\n"
     ]
    }
   ],
   "source": [
    "# Convert to Superoperator\n",
    "phase_flip_sop = SuperOp(phase_flip)\n",
    "print(phase_flip_sop)"
   ]
  },
  {
   "cell_type": "code",
   "execution_count": 19,
   "id": "3386eb9e",
   "metadata": {},
   "outputs": [
    {
     "name": "stdout",
     "output_type": "stream",
     "text": [
      "QuantumError on 1 qubits. Noise circuits:\n",
      "  P(0) = 1.0, Circuit = \n",
      "   ┌───────┐\n",
      "q: ┤ kraus ├\n",
      "   └───────┘\n"
     ]
    },
    {
     "data": {
      "text/plain": [
       "True"
      ]
     },
     "execution_count": 19,
     "metadata": {},
     "output_type": "execute_result"
    }
   ],
   "source": [
    "# Convert back to a quantum error\n",
    "print(QuantumError(bit_flip_kraus))\n",
    " \n",
    "# Check conversion is equivalent to original error\n",
    "QuantumError(bit_flip_kraus) == bit_flip"
   ]
  },
  {
   "cell_type": "code",
   "execution_count": 20,
   "id": "d8962964",
   "metadata": {},
   "outputs": [
    {
     "data": {
      "text/plain": [
       "ReadoutError([[0.95 0.05]\n",
       " [0.1  0.9 ]])"
      ]
     },
     "execution_count": 20,
     "metadata": {},
     "output_type": "execute_result"
    }
   ],
   "source": [
    "# Measurement misassignment probabilities\n",
    "p0given1 = 0.1\n",
    "p1given0 = 0.05\n",
    " \n",
    "ReadoutError([[1 - p1given0, p1given0], [p0given1, 1 - p0given1]])"
   ]
  },
  {
   "cell_type": "code",
   "execution_count": 21,
   "id": "36ce10f5",
   "metadata": {},
   "outputs": [
    {
     "name": "stdout",
     "output_type": "stream",
     "text": [
      "        ┌───┐                ░ ┌─┐         \n",
      "   q_0: ┤ H ├──■─────────────░─┤M├─────────\n",
      "        └───┘┌─┴─┐           ░ └╥┘┌─┐      \n",
      "   q_1: ─────┤ X ├──■────────░──╫─┤M├──────\n",
      "             └───┘┌─┴─┐      ░  ║ └╥┘┌─┐   \n",
      "   q_2: ──────────┤ X ├──■───░──╫──╫─┤M├───\n",
      "                  └───┘┌─┴─┐ ░  ║  ║ └╥┘┌─┐\n",
      "   q_3: ───────────────┤ X ├─░──╫──╫──╫─┤M├\n",
      "                       └───┘ ░  ║  ║  ║ └╥┘\n",
      "meas: 4/════════════════════════╩══╩══╩══╩═\n",
      "                                0  1  2  3 \n"
     ]
    }
   ],
   "source": [
    "# System Specification\n",
    "n_qubits = 4\n",
    "circ = QuantumCircuit(n_qubits)\n",
    " \n",
    "# Test Circuit\n",
    "circ.h(0)\n",
    "for qubit in range(n_qubits - 1):\n",
    "    circ.cx(qubit, qubit + 1)\n",
    "circ.measure_all()\n",
    "print(circ)"
   ]
  },
  {
   "cell_type": "code",
   "execution_count": 22,
   "id": "1d357ee3",
   "metadata": {},
   "outputs": [
    {
     "data": {
      "image/png": "[encoded data removed]",
      "text/plain": [
       "<Figure size 700x500 with 1 Axes>"
      ]
     },
     "execution_count": 22,
     "metadata": {
      "image/png": {
       "height": 467,
       "width": 633
      }
     },
     "output_type": "execute_result"
    }
   ],
   "source": [
    "# Ideal simulator and execution\n",
    "sim_ideal = AerSimulator()\n",
    "result_ideal = sim_ideal.run(circ).result()\n",
    "plot_histogram(result_ideal.get_counts(0))"
   ]
  },
  {
   "cell_type": "code",
   "execution_count": 23,
   "id": "211fd0ba",
   "metadata": {},
   "outputs": [
    {
     "name": "stdout",
     "output_type": "stream",
     "text": [
      "NoiseModel:\n",
      "  Basis gates: ['cx', 'id', 'rz', 'sx', 'u1', 'u2', 'u3']\n",
      "  Instructions with noise: ['u3', 'u2', 'measure', 'cx', 'reset', 'u1']\n",
      "  All-qubits errors: ['reset', 'measure', 'u1', 'u2', 'u3', 'cx']\n"
     ]
    }
   ],
   "source": [
    "# Example error probabilities\n",
    "p_reset = 0.03\n",
    "p_meas = 0.1\n",
    "p_gate1 = 0.05\n",
    " \n",
    "# QuantumError objects\n",
    "error_reset = pauli_error([('X', p_reset), ('I', 1 - p_reset)])\n",
    "error_meas = pauli_error([('X',p_meas), ('I', 1 - p_meas)])\n",
    "error_gate1 = pauli_error([('X',p_gate1), ('I', 1 - p_gate1)])\n",
    "error_gate2 = error_gate1.tensor(error_gate1)\n",
    " \n",
    "# Add errors to noise model\n",
    "noise_bit_flip = NoiseModel()\n",
    "noise_bit_flip.add_all_qubit_quantum_error(error_reset, \"reset\")\n",
    "noise_bit_flip.add_all_qubit_quantum_error(error_meas, \"measure\")\n",
    "noise_bit_flip.add_all_qubit_quantum_error(error_gate1, [\"u1\", \"u2\", \"u3\"])\n",
    "noise_bit_flip.add_all_qubit_quantum_error(error_gate2, [\"cx\"])\n",
    " \n",
    "print(noise_bit_flip)"
   ]
  },
  {
   "cell_type": "code",
   "execution_count": 24,
   "id": "8103d7dc",
   "metadata": {},
   "outputs": [
    {
     "name": "stderr",
     "output_type": "stream",
     "text": [
      "/opt/homebrew/Caskroom/miniforge/base/lib/python3.10/site-packages/numpy/linalg/linalg.py:2154: RuntimeWarning: divide by zero encountered in det\n",
      "  r = _umath_linalg.det(a, signature=signature)\n",
      "/opt/homebrew/Caskroom/miniforge/base/lib/python3.10/site-packages/numpy/linalg/linalg.py:2154: RuntimeWarning: invalid value encountered in det\n",
      "  r = _umath_linalg.det(a, signature=signature)\n"
     ]
    },
    {
     "data": {
      "image/png": "[encoded data removed]",
      "text/plain": [
       "<Figure size 700x500 with 1 Axes>"
      ]
     },
     "execution_count": 24,
     "metadata": {
      "image/png": {
       "height": 467,
       "width": 633
      }
     },
     "output_type": "execute_result"
    }
   ],
   "source": [
    "# Create noisy simulator backend\n",
    "sim_noise = AerSimulator(noise_model=noise_bit_flip)\n",
    " \n",
    "# Transpile circuit for noisy basis gates\n",
    "passmanager = generate_preset_pass_manager(optimization_level=3, backend=sim_noise)\n",
    "circ_tnoise = passmanager.run(circ)\n",
    " \n",
    "# Run and get counts\n",
    "result_bit_flip = sim_noise.run(circ_tnoise).result()\n",
    "counts_bit_flip = result_bit_flip.get_counts(0)\n",
    " \n",
    "# Plot noisy output\n",
    "plot_histogram(counts_bit_flip)"
   ]
  }
 ],
 "metadata": {
  "kernelspec": {
   "display_name": "Python 3.8.8 ('base')",
   "language": "python",
   "name": "python3"
  },
  "language_info": {
   "codemirror_mode": {
    "name": "ipython",
    "version": 3
   },
   "file_extension": ".py",
   "mimetype": "text/x-python",
   "name": "python",
   "nbconvert_exporter": "python",
   "pygments_lexer": "ipython3",
   "version": "3.10.14"
  },
  "vscode": {
   "interpreter": {
    "hash": "4e8ef2f9fcac0817bca9a7ca376f64f20b4df5ea3bf7af756a50bda7d3557ea6"
   }
  }
 },
 "nbformat": 4,
 "nbformat_minor": 5
}