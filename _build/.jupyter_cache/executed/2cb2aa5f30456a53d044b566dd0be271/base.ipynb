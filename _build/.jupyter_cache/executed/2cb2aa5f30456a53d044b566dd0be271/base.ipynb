{
 "cells": [
  {
   "cell_type": "code",
   "execution_count": 1,
   "id": "5482b331",
   "metadata": {},
   "outputs": [],
   "source": [
    "from qiskit.quantum_info import SparsePauliOp, random_pauli, random_hermitian, random_clifford, random_unitary\n",
    "import numpy as np"
   ]
  },
  {
   "cell_type": "code",
   "execution_count": 2,
   "id": "64d12a4c",
   "metadata": {},
   "outputs": [
    {
     "data": {
      "text/plain": [
       "array([[ 0.+0.j,  1.+0.j],\n",
       "       [-1.+0.j,  0.+0.j]])"
      ]
     },
     "execution_count": 2,
     "metadata": {},
     "output_type": "execute_result"
    }
   ],
   "source": [
    "np.linalg.multi_dot([SparsePauliOp('Z'), SparsePauliOp('X')])"
   ]
  },
  {
   "cell_type": "code",
   "execution_count": 3,
   "id": "e88a7cc4",
   "metadata": {},
   "outputs": [
    {
     "data": {
      "text/plain": [
       "Pauli('YZY')"
      ]
     },
     "execution_count": 3,
     "metadata": {},
     "output_type": "execute_result"
    }
   ],
   "source": [
    "random_pauli(3)"
   ]
  },
  {
   "cell_type": "code",
   "execution_count": 4,
   "id": "aad2e009",
   "metadata": {},
   "outputs": [
    {
     "name": "stdout",
     "output_type": "stream",
     "text": [
      "Operator([[-1.8550156 +0.j        , -0.26622661-0.17704846j,\n",
      "            0.48839315-0.30701534j,  1.079291  +0.02128705j],\n",
      "          [-0.26622661+0.17704846j, -0.53330923+0.j        ,\n",
      "            0.47378414+0.27031332j,  0.61711374+0.12150274j],\n",
      "          [ 0.48839315+0.30701534j,  0.47378414-0.27031332j,\n",
      "            0.66178956+0.j        , -0.00843601+0.0492116j ],\n",
      "          [ 1.079291  -0.02128705j,  0.61711374-0.12150274j,\n",
      "           -0.00843601-0.0492116j , -1.07847716+0.j        ]],\n",
      "         input_dims=(2, 2), output_dims=(2, 2))\n"
     ]
    }
   ],
   "source": [
    "random_hermitian(4)"
   ]
  },
  {
   "cell_type": "code",
   "execution_count": null,
   "id": "eb78baf6",
   "metadata": {},
   "outputs": [],
   "source": []
  },
  {
   "cell_type": "code",
   "execution_count": 5,
   "id": "7e01d90f",
   "metadata": {},
   "outputs": [
    {
     "data": {
      "text/plain": [
       "SparsePauliOp(['IIIZ', 'IIZI', 'IZII', 'ZIII'],\n",
       "              coeffs=[0.25+0.j, 0.25+0.j, 0.25+0.j, 0.25+0.j])"
      ]
     },
     "execution_count": 5,
     "metadata": {},
     "output_type": "execute_result"
    }
   ],
   "source": [
    "n  = 4\n",
    "magn_op = SparsePauliOp.from_sparse_list([('Z', [i], 1/n) for i in range(0, n)], n)\n",
    "corr_op = SparsePauliOp.from_sparse_list([('ZZ', [i,i+1], 1/(n-1)) for i in range(0, n-1)], n)\n",
    "magn_op"
   ]
  },
  {
   "cell_type": "code",
   "execution_count": 6,
   "id": "c2c270c4",
   "metadata": {},
   "outputs": [
    {
     "name": "stdout",
     "output_type": "stream",
     "text": [
      "Operator([[ 0.20922794+0.76100997j, -0.12979659-0.07036268j,\n",
      "           -0.3368114 +0.43586815j,  0.21877873+0.06326406j],\n",
      "          [ 0.2007649 +0.15615808j,  0.70838851-0.27733802j,\n",
      "            0.01917754+0.07779561j, -0.57267054+0.14901668j],\n",
      "          [ 0.4019426 +0.14222869j,  0.21289994+0.38487587j,\n",
      "           -0.08271044-0.5873211j ,  0.28760409+0.43618128j],\n",
      "          [ 0.12795911+0.33798701j, -0.04617366-0.45153455j,\n",
      "            0.19430647-0.54828368j,  0.08387237-0.56388936j]],\n",
      "         input_dims=(2, 2), output_dims=(2, 2))\n"
     ]
    }
   ],
   "source": [
    "random_unitary(4)"
   ]
  },
  {
   "cell_type": "code",
   "execution_count": 7,
   "id": "6f3ea6aa",
   "metadata": {},
   "outputs": [
    {
     "data": {
      "text/plain": [
       "Clifford(array([[ True, False,  True,  True, False,  True, False, False, False],\n",
       "       [False, False, False,  True, False, False, False, False, False],\n",
       "       [ True,  True, False, False, False, False,  True, False,  True],\n",
       "       [False, False,  True, False,  True, False,  True, False, False],\n",
       "       [False, False, False, False,  True,  True, False, False,  True],\n",
       "       [False, False,  True, False, False,  True,  True,  True, False],\n",
       "       [ True,  True, False, False, False,  True,  True, False,  True],\n",
       "       [False, False,  True,  True, False,  True, False, False,  True]]))"
      ]
     },
     "execution_count": 7,
     "metadata": {},
     "output_type": "execute_result"
    }
   ],
   "source": [
    "random_clifford(4)"
   ]
  }
 ],
 "metadata": {
  "kernelspec": {
   "display_name": "Python 3.8.8 ('base')",
   "language": "python",
   "name": "python3"
  },
  "language_info": {
   "codemirror_mode": {
    "name": "ipython",
    "version": 3
   },
   "file_extension": ".py",
   "mimetype": "text/x-python",
   "name": "python",
   "nbconvert_exporter": "python",
   "pygments_lexer": "ipython3",
   "version": "3.10.14"
  },
  "vscode": {
   "interpreter": {
    "hash": "4e8ef2f9fcac0817bca9a7ca376f64f20b4df5ea3bf7af756a50bda7d3557ea6"
   }
  }
 },
 "nbformat": 4,
 "nbformat_minor": 5
}