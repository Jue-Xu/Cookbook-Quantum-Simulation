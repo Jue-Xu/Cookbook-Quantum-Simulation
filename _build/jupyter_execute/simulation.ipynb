{
 "cells": [
  {
   "cell_type": "markdown",
   "metadata": {},
   "source": [
    "# Quantum simulation\n",
    "\n",
    "Tutorial\n",
    "- Nathan Wiebe: https://youtu.be/MB2bzOXM0sM?si=sIhcu6Wa5yi98ntU\n",
    "- Ignacio Cirac: https://www.youtube.com/watch?v=n6oOsjvxDZg (QIP2023)\n",
    "- Andrew Childs (quantum algorithms): https://www.youtube.com/watch?v=M0e5gkf7QSQ  (QIP2021, part)\n"
   ]
  },
  {
   "cell_type": "markdown",
   "metadata": {},
   "source": [
    "## Quantum dynamic simulation"
   ]
  },
  {
   "cell_type": "markdown",
   "metadata": {},
   "source": [
    "## Quantum equilibrium simulation"
   ]
  },
  {
   "cell_type": "markdown",
   "metadata": {},
   "source": [
    "## Quantum ground state simulation"
   ]
  }
 ],
 "metadata": {
  "kernelspec": {
   "display_name": "base",
   "language": "python",
   "name": "python3"
  },
  "language_info": {
   "codemirror_mode": {
    "name": "ipython",
    "version": 3
   },
   "file_extension": ".py",
   "mimetype": "text/x-python",
   "name": "python",
   "nbconvert_exporter": "python",
   "pygments_lexer": "ipython3",
   "version": "3.10.14"
  }
 },
 "nbformat": 4,
 "nbformat_minor": 2
}