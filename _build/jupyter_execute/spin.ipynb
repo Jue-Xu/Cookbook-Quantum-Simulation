{
 "cells": [
  {
   "cell_type": "markdown",
   "id": "8b24f5d3",
   "metadata": {},
   "source": [
    "# Spin "
   ]
  },
  {
   "cell_type": "code",
   "execution_count": 4,
   "id": "2763848a",
   "metadata": {},
   "outputs": [],
   "source": [
    "from qiskit.quantum_info import SparsePauliOp, Statevector\n",
    "\n",
    "import quantum_simulation_recipe as qsr\n",
    "from quantum_simulation_recipe import spin_ham"
   ]
  },
  {
   "cell_type": "markdown",
   "id": "0ee355f6",
   "metadata": {},
   "source": [
    "## Nearest-neighbor interaction\n",
    "\n",
    "```{math}\n",
    "H=\\sum_{j=1}^{n-1} J_j Z_j Z_{j+1} + \\sum_{j=1}^{n} h_j X_j,\n",
    "```\n",
    "where $J$ is the interaction strength and $h_j$ is the strength of the external field."
   ]
  },
  {
   "cell_type": "code",
   "execution_count": 5,
   "id": "8032a8eb",
   "metadata": {},
   "outputs": [
    {
     "data": {
      "text/plain": [
       "SparsePauliOp(['IIXX', 'IXXI', 'XXII', 'IIYY', 'IYYI', 'YYII', 'IIZZ', 'IZZI', 'ZZII', 'IIIX', 'IIXI', 'IXII', 'XIII'],\n",
       "              coeffs=[1. +0.j, 1. +0.j, 1. +0.j, 1. +0.j, 1. +0.j, 1. +0.j, 1. +0.j, 1. +0.j,\n",
       " 1. +0.j, 0.2+0.j, 0.2+0.j, 0.2+0.j, 0.2+0.j])"
      ]
     },
     "execution_count": 5,
     "metadata": {},
     "output_type": "execute_result"
    }
   ],
   "source": [
    "H = spin_ham.Nearest_Neighbour_1d(4)\n",
    "H.ham"
   ]
  },
  {
   "cell_type": "markdown",
   "id": "efde70d6",
   "metadata": {},
   "source": [
    "## Power-law interaction"
   ]
  },
  {
   "cell_type": "markdown",
   "id": "14bd5369",
   "metadata": {},
   "source": [
    "## Higher dimension"
   ]
  }
 ],
 "metadata": {
  "kernelspec": {
   "display_name": "Python 3.8.8 ('base')",
   "language": "python",
   "name": "python3"
  },
  "language_info": {
   "codemirror_mode": {
    "name": "ipython",
    "version": 3
   },
   "file_extension": ".py",
   "mimetype": "text/x-python",
   "name": "python",
   "nbconvert_exporter": "python",
   "pygments_lexer": "ipython3",
   "version": "3.10.14"
  },
  "vscode": {
   "interpreter": {
    "hash": "4e8ef2f9fcac0817bca9a7ca376f64f20b4df5ea3bf7af756a50bda7d3557ea6"
   }
  }
 },
 "nbformat": 4,
 "nbformat_minor": 5
}