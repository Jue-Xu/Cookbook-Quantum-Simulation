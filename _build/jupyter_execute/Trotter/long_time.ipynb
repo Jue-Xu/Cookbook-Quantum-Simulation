{
 "cells": [
  {
   "cell_type": "markdown",
   "id": "8b24f5d3",
   "metadata": {},
   "source": [
    "# Localization of Trotter Error\n",
    "\n",
    "Quantum localization bounds Trotter errors in digital quantum simulation (http://arxiv.org/abs/1806.11123)"
   ]
  },
  {
   "cell_type": "markdown",
   "id": "1cd3bcde",
   "metadata": {},
   "source": [
    "## Threshold of localization (observable error)"
   ]
  },
  {
   "cell_type": "code",
   "execution_count": 1,
   "id": "3287795f",
   "metadata": {},
   "outputs": [
    {
     "ename": "ModuleNotFoundError",
     "evalue": "No module named 'utils'",
     "output_type": "error",
     "traceback": [
      "\u001b[0;31m---------------------------------------------------------------------------\u001b[0m",
      "\u001b[0;31mModuleNotFoundError\u001b[0m                       Traceback (most recent call last)",
      "Cell \u001b[0;32mIn[1], line 12\u001b[0m\n\u001b[1;32m      9\u001b[0m \u001b[38;5;28;01mimport\u001b[39;00m \u001b[38;5;21;01mmatplotlib\u001b[39;00m\u001b[38;5;21;01m.\u001b[39;00m\u001b[38;5;21;01mpyplot\u001b[39;00m \u001b[38;5;28;01mas\u001b[39;00m \u001b[38;5;21;01mplt\u001b[39;00m\n\u001b[1;32m     10\u001b[0m \u001b[38;5;28;01mimport\u001b[39;00m \u001b[38;5;21;01mnumpy\u001b[39;00m \u001b[38;5;28;01mas\u001b[39;00m \u001b[38;5;21;01mnp\u001b[39;00m\n\u001b[0;32m---> 12\u001b[0m \u001b[38;5;28;01mfrom\u001b[39;00m \u001b[38;5;21;01mutils\u001b[39;00m \u001b[38;5;28;01mimport\u001b[39;00m \u001b[38;5;241m*\u001b[39m\n\u001b[1;32m     13\u001b[0m \u001b[38;5;66;03m# from dqpt import *\u001b[39;00m\n\u001b[1;32m     14\u001b[0m \u001b[38;5;28;01mfrom\u001b[39;00m \u001b[38;5;21;01mspin_ham\u001b[39;00m \u001b[38;5;28;01mimport\u001b[39;00m \u001b[38;5;241m*\u001b[39m\n",
      "\u001b[0;31mModuleNotFoundError\u001b[0m: No module named 'utils'"
     ]
    }
   ],
   "source": [
    "from qiskit.quantum_info import Statevector, SparsePauliOp, Operator, partial_trace, entropy, DensityMatrix\n",
    "\n",
    "import itertools as it\n",
    "import scipy.sparse.linalg as ssla\n",
    "from scipy import sparse\n",
    "import pandas as pd\n",
    "\n",
    "# from mpl_toolkits.axes_grid1.inset_locator import inset_axes\n",
    "import matplotlib.pyplot as plt\n",
    "import numpy as np\n",
    "\n",
    "from utils import *\n",
    "# from dqpt import *\n",
    "from spin_ham import *\n",
    "\n",
    "figs_dir = './figs/'\n",
    "data_dir = './data/'"
   ]
  },
  {
   "cell_type": "code",
   "execution_count": 3,
   "id": "eebc880f",
   "metadata": {},
   "outputs": [
    {
     "ename": "NameError",
     "evalue": "name 'get_hamiltonian' is not defined",
     "output_type": "error",
     "traceback": [
      "\u001b[0;31m---------------------------------------------------------------------------\u001b[0m",
      "\u001b[0;31mNameError\u001b[0m                                 Traceback (most recent call last)",
      "Cell \u001b[0;32mIn[3], line 9\u001b[0m\n\u001b[1;32m      7\u001b[0m J, h, g \u001b[38;5;241m=\u001b[39m \u001b[38;5;241m0.2\u001b[39m, \u001b[38;5;241m1.0\u001b[39m, \u001b[38;5;241m0.0\u001b[39m\n\u001b[1;32m      8\u001b[0m \u001b[38;5;66;03m# H = get_hamiltonian(L=n, J=1.0, h=1., verbose=True)\u001b[39;00m\n\u001b[0;32m----> 9\u001b[0m H \u001b[38;5;241m=\u001b[39m \u001b[43mget_hamiltonian\u001b[49m(L\u001b[38;5;241m=\u001b[39mn, J\u001b[38;5;241m=\u001b[39mJ, h\u001b[38;5;241m=\u001b[39mh, g\u001b[38;5;241m=\u001b[39mg, verbose\u001b[38;5;241m=\u001b[39m\u001b[38;5;28;01mTrue\u001b[39;00m)\n\u001b[1;32m     10\u001b[0m init_state \u001b[38;5;241m=\u001b[39m Statevector\u001b[38;5;241m.\u001b[39mfrom_label(\u001b[38;5;124m'\u001b[39m\u001b[38;5;124m0\u001b[39m\u001b[38;5;124m'\u001b[39m\u001b[38;5;241m*\u001b[39mn)\n\u001b[1;32m     11\u001b[0m magn_op \u001b[38;5;241m=\u001b[39m SparsePauliOp\u001b[38;5;241m.\u001b[39mfrom_sparse_list([(\u001b[38;5;124m'\u001b[39m\u001b[38;5;124mY\u001b[39m\u001b[38;5;124m'\u001b[39m, [i], \u001b[38;5;241m1.\u001b[39m) \u001b[38;5;28;01mfor\u001b[39;00m i \u001b[38;5;129;01min\u001b[39;00m \u001b[38;5;28mrange\u001b[39m(\u001b[38;5;241m0\u001b[39m, n)], num_qubits\u001b[38;5;241m=\u001b[39mn)\n",
      "\u001b[0;31mNameError\u001b[0m: name 'get_hamiltonian' is not defined"
     ]
    }
   ],
   "source": [
    "n = 8\n",
    "# r_pf = 50\n",
    "r_list = np.linspace(10, 200, 20, dtype=int) \n",
    "t_max, t_n = 20, 100\n",
    "t_list = np.linspace(1, t_max, t_n)\n",
    "\n",
    "J, h, g = 0.2, 1.0, 0.0\n",
    "# H = get_hamiltonian(L=n, J=1.0, h=1., verbose=True)\n",
    "H = get_hamiltonian(L=n, J=J, h=h, g=g, verbose=True)\n",
    "init_state = Statevector.from_label('0'*n)\n",
    "magn_op = SparsePauliOp.from_sparse_list([('Y', [i], 1.) for i in range(0, n)], num_qubits=n)\n",
    "magn_err_list = []\n",
    "for r in r_list:\n",
    "    echo, rate, magn, entr  = dynamics(H, init_state, magn_op, t_list, r)\n",
    "    magn_err = sum(abs(np.subtract(magn['exact'], magn['trott']))**2)\n",
    "    print(magn_err)\n",
    "    magn_err_list.append(magn_err)\n",
    "\n",
    "plt.plot([1/r for r in r_list], magn_err_list, marker='o')\n",
    "plt.xlabel('1/r')\n",
    "plt.xscale('log')\n",
    "plt.ylabel('error')"
   ]
  },
  {
   "cell_type": "code",
   "execution_count": null,
   "id": "4ffaa1c2",
   "metadata": {},
   "outputs": [],
   "source": [
    "n, T = 8, 6\n",
    "r_list = [10, 20, 50, 100, 200]\n",
    "\n",
    "# J, h, g = 0.2, 1.0, 0.0\n",
    "J, h, g = -1.0, -1.0, -1.0\n",
    "tfI = TF_Ising_1d(n, J, h, g, pbc=True)\n",
    "H_list = [h.to_matrix(True) for h in tfI.ham_parity]\n",
    "# H_list = [h.to_matrix(True) for h in tfI.ham_xyz]\n",
    "init_state = Statevector.from_label('0'*n)\n",
    "magn_op = SparsePauliOp.from_sparse_list([('Z', [i], 1.) for i in range(0, n)], num_qubits=n).to_matrix()/(n)\n",
    "\n",
    "# fig, [ax1, ax2] = plt.subplots(2, 1, figsize=(8, 6), sharex=True)\n",
    "fig, ax1 = plt.subplots(1, 1, figsize=(8, 6), sharex=True)\n",
    "inset_ax = inset_axes(ax1, width=\"50%\", height=1.5, loc=\"lower right\", borderpad=2)\n",
    "for r in r_list:\n",
    "    obpf = ObPF(H_list, magn_op, init_state, T, r)\n",
    "    t_list = np.linspace(0, T, r+1)\n",
    "    # print('t_list: ', t_list)\n",
    "    # plot_evo(ax, t_list, obpf.data['magn']['exact'], '-')\n",
    "    plot_evo(ax1, t_list, obpf.data['magn']['trott'], '.:', label=f't/r={T/r:.2f}')\n",
    "    # plot_evo(ax2, t_list, ob_trott_err(obpf.data['magn'], abs=True), '.:', label=f't/r={T/r:.2f}')\n",
    "    plot_evo(inset_ax, t_list, ob_trott_err(obpf.data['magn'])/(h*T/r)**2, '.:', label=f't/r={T/r:.2f}')\n",
    "\n",
    "t_list = np.linspace(0, T, 200+1)\n",
    "exact_magn = [init_state.data.conj().T @ expm(1j * t * sum(H_list).toarray()) @ magn_op @ expm(-1j * t * sum(H_list).toarray()) @ init_state.data for t in t_list]\n",
    "\n",
    "plot_evo(ax1, t_list, exact_magn, 'k-', label=f'Exact')\n",
    "ax1.set_ylabel('Magn M(t)')\n",
    "ax1.set_ylim(0, 1.1)\n",
    "\n",
    "ax1.set_xlabel('Evolution Time (ht)')\n",
    "inset_ax.set_ylabel(r'$\\Delta M(t)/(h\\tau)^2$')\n",
    "ax1.legend()\n",
    "# ax2.legend()\n",
    "fig.savefig(f'../figs/recover_ob_localization_n={n}_T={T}.pdf', dpi=300, bbox_inches='tight')"
   ]
  },
  {
   "cell_type": "code",
   "execution_count": null,
   "id": "1a7a6d9f",
   "metadata": {},
   "outputs": [],
   "source": [
    "n, T = 8, 50\n",
    "r_list = [50, 100, 200, 1000, 2000]\n",
    "\n",
    "J, h, g = 0.2, 1.0, 0.0\n",
    "# J, h, g = -1.0, -1.0, -1.0\n",
    "tfI = TF_Ising_1d(n, J, h, g, pbc=True)\n",
    "# H_list = [h.to_matrix(True) for h in tfI.ham_parity]\n",
    "H_list = [h.to_matrix(True) for h in tfI.ham_xyz]\n",
    "init_state = Statevector.from_label('0'*n)\n",
    "magn_op = SparsePauliOp.from_sparse_list([('Z', [i], 1.) for i in range(0, n)], num_qubits=n).to_matrix()/n\n",
    "\n",
    "fig, [ax1, ax2] = plt.subplots(2, 1, figsize=(8, 6), sharex=True)\n",
    "\n",
    "for r in r_list:\n",
    "    obpf = ObPF(H_list, magn_op, init_state, T, r)\n",
    "    t_list = np.linspace(0, T, r+1)\n",
    "    # print('t_list: ', t_list)\n",
    "    # plot_evo(ax, t_list, obpf.data['magn']['exact'], '-')\n",
    "    plot_evo(ax1, t_list, obpf.data['magn']['trott'], '.:', label=f't/r={T/r:.2f}')\n",
    "    # plot_evo(ax2, t_list, ob_trott_err(obpf.data['magn'], abs=True), '.:', label=f't/r={T/r:.2f}')\n",
    "    plot_evo(ax2, t_list, ob_trott_err(obpf.data['magn'])/(h*T/r)**2, '.:', label=f't/r={T/r:.2f}')\n",
    "\n",
    "t_list = np.linspace(0, T, 200+1)\n",
    "exact_magn = [init_state.data.conj().T @ expm(1j * t * sum(H_list).toarray()) @ magn_op @ expm(-1j * t * sum(H_list).toarray()) @ init_state.data for t in t_list]\n",
    "\n",
    "plot_evo(ax1, t_list, exact_magn, 'm-', label=f'Exact')\n",
    "ax1.set_ylabel('Magn')\n",
    "\n",
    "ax2.set_xlabel('Evolution Time (ht)')\n",
    "ax2.set_ylabel(r'$\\Delta M(t)/(h\\tau)^2$')\n",
    "ax1.legend()\n",
    "ax2.legend()\n",
    "fig.savefig(f'../figs/ob_localization_n={n}_T={T}.pdf', dpi=300, bbox_inches='tight')"
   ]
  }
 ],
 "metadata": {
  "kernelspec": {
   "display_name": "Python 3.8.8 ('base')",
   "language": "python",
   "name": "python3"
  },
  "language_info": {
   "codemirror_mode": {
    "name": "ipython",
    "version": 3
   },
   "file_extension": ".py",
   "mimetype": "text/x-python",
   "name": "python",
   "nbconvert_exporter": "python",
   "pygments_lexer": "ipython3",
   "version": "3.10.14"
  },
  "vscode": {
   "interpreter": {
    "hash": "4e8ef2f9fcac0817bca9a7ca376f64f20b4df5ea3bf7af756a50bda7d3557ea6"
   }
  }
 },
 "nbformat": 4,
 "nbformat_minor": 5
}