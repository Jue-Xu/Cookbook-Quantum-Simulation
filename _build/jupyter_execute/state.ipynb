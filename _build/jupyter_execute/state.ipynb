{
 "cells": [
  {
   "cell_type": "markdown",
   "id": "8b24f5d3",
   "metadata": {},
   "source": [
    "# States"
   ]
  },
  {
   "cell_type": "code",
   "execution_count": 25,
   "id": "baa50aef",
   "metadata": {},
   "outputs": [],
   "source": [
    "# import quantum_simulation_recipe as qsr\n",
    "# from quantum_simulation_recipe import spin_ham\n",
    "from qiskit.quantum_info import Statevector"
   ]
  },
  {
   "cell_type": "markdown",
   "id": "13b09b98",
   "metadata": {},
   "source": [
    "## Pure states"
   ]
  },
  {
   "cell_type": "markdown",
   "id": "62e2ddaa",
   "metadata": {},
   "source": [
    "### Product states"
   ]
  },
  {
   "cell_type": "code",
   "execution_count": 24,
   "id": "1225a418",
   "metadata": {},
   "outputs": [
    {
     "name": "stdout",
     "output_type": "stream",
     "text": [
      "product_vec:  Statevector([0.+0.j, 0.+0.j, 0.+0.j, 0.+0.j, 0.+0.j, 0.+0.j, 0.+0.j,\n",
      "             0.+0.j, 0.+0.j, 0.+0.j, 0.+0.j, 0.+0.j, 0.+0.j, 0.+0.j,\n",
      "             0.+0.j, 1.+0.j],\n",
      "            dims=(2, 2, 2, 2))\n"
     ]
    }
   ],
   "source": [
    "n = 4\n",
    "product_vec = Statevector.from_label('1'*n) # 0, 1, r, l\n",
    "print('product_vec: ', product_vec)"
   ]
  },
  {
   "cell_type": "markdown",
   "id": "c17c0034",
   "metadata": {},
   "source": [
    "### Random states"
   ]
  },
  {
   "cell_type": "markdown",
   "id": "91585360",
   "metadata": {},
   "source": [
    "#### Haar random"
   ]
  },
  {
   "cell_type": "code",
   "execution_count": 22,
   "id": "6a277348",
   "metadata": {},
   "outputs": [
    {
     "name": "stdout",
     "output_type": "stream",
     "text": [
      "[-0.17939811-0.03905395j -0.20907167+0.13714066j -0.2733959 -0.09336126j\n",
      " -0.01905968+0.11638458j  0.04326231+0.04206559j  0.06677697-0.01127916j\n",
      "  0.36448121+0.03121854j -0.02625389-0.18936578j  0.22989402-0.16398151j\n",
      " -0.10304873-0.33787885j -0.10932647+0.28965101j  0.08120606+0.16322339j\n",
      " -0.21836232+0.12463703j -0.23311966-0.29441739j  0.2294807 -0.03242889j\n",
      "  0.12092783+0.14702686j]\n"
     ]
    }
   ],
   "source": [
    "from qiskit.quantum_info import random_statevector\n",
    "\n",
    "random_state = random_statevector(2**n).data\n",
    "print(random_state)"
   ]
  },
  {
   "cell_type": "markdown",
   "id": "09232391",
   "metadata": {},
   "source": [
    "#### 1-design"
   ]
  },
  {
   "cell_type": "markdown",
   "id": "8175050b",
   "metadata": {},
   "source": [
    "## Mixed state "
   ]
  },
  {
   "cell_type": "code",
   "execution_count": 23,
   "id": "15c4f9c8",
   "metadata": {},
   "outputs": [
    {
     "name": "stdout",
     "output_type": "stream",
     "text": [
      "DensityMatrix([[ 0.06716782+8.00979227e-19j,  0.01046646-4.79247240e-02j,\n",
      "                 0.03357302-1.00585064e-02j, -0.01179694+1.93361108e-02j],\n",
      "               [ 0.01046646+4.79247240e-02j,  0.38215452+2.89353896e-18j,\n",
      "                 0.17517235+8.19036624e-02j, -0.17159674+7.25158512e-02j],\n",
      "               [ 0.03357302+1.00585064e-02j,  0.17517235-8.19036624e-02j,\n",
      "                 0.35374148-1.91939258e-18j, -0.09857925+1.45868656e-01j],\n",
      "               [-0.01179694-1.93361108e-02j, -0.17159674-7.25158512e-02j,\n",
      "                -0.09857925-1.45868656e-01j,  0.19693618-1.77512561e-18j]],\n",
      "              dims=(2, 2))\n"
     ]
    }
   ],
   "source": [
    "from qiskit.quantum_info import random_density_matrix\n",
    "\n",
    "random_density_matrix(4)"
   ]
  },
  {
   "cell_type": "markdown",
   "id": "f3821513",
   "metadata": {},
   "source": [
    "## Entangled state"
   ]
  },
  {
   "cell_type": "markdown",
   "id": "25805235",
   "metadata": {},
   "source": [
    "### GHZ, W states"
   ]
  },
  {
   "cell_type": "code",
   "execution_count": null,
   "id": "5ef510dd",
   "metadata": {},
   "outputs": [],
   "source": []
  }
 ],
 "metadata": {
  "kernelspec": {
   "display_name": "Python 3.8.8 ('base')",
   "language": "python",
   "name": "python3"
  },
  "language_info": {
   "codemirror_mode": {
    "name": "ipython",
    "version": 3
   },
   "file_extension": ".py",
   "mimetype": "text/x-python",
   "name": "python",
   "nbconvert_exporter": "python",
   "pygments_lexer": "ipython3",
   "version": "3.10.14"
  },
  "vscode": {
   "interpreter": {
    "hash": "4e8ef2f9fcac0817bca9a7ca376f64f20b4df5ea3bf7af756a50bda7d3557ea6"
   }
  }
 },
 "nbformat": 4,
 "nbformat_minor": 5
}