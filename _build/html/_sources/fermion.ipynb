{
 "cells": [
  {
   "cell_type": "markdown",
   "id": "8b24f5d3",
   "metadata": {},
   "source": [
    "# Fermion"
   ]
  },
  {
   "cell_type": "code",
   "execution_count": 2,
   "id": "be5e4687",
   "metadata": {},
   "outputs": [],
   "source": [
    "import quantum_simulation_recipe as qsr\n",
    "from quantum_simulation_recipe import spin_ham"
   ]
  },
  {
   "cell_type": "markdown",
   "id": "c19aaffa",
   "metadata": {},
   "source": [
    "### Jordan-Wigner transformation"
   ]
  },
  {
   "cell_type": "markdown",
   "id": "9dd417bb",
   "metadata": {},
   "source": [
    "## Chemical molecules"
   ]
  },
  {
   "cell_type": "code",
   "execution_count": null,
   "id": "87ae2b52",
   "metadata": {},
   "outputs": [],
   "source": []
  },
  {
   "cell_type": "markdown",
   "id": "60709827",
   "metadata": {},
   "source": [
    "## SYK model"
   ]
  },
  {
   "cell_type": "markdown",
   "id": "50cee78b",
   "metadata": {},
   "source": [
    "## Hubbard model"
   ]
  }
 ],
 "metadata": {
  "kernelspec": {
   "display_name": "Python 3.8.8 ('base')",
   "language": "python",
   "name": "python3"
  },
  "language_info": {
   "codemirror_mode": {
    "name": "ipython",
    "version": 3
   },
   "file_extension": ".py",
   "mimetype": "text/x-python",
   "name": "python",
   "nbconvert_exporter": "python",
   "pygments_lexer": "ipython3",
   "version": "3.10.14"
  },
  "vscode": {
   "interpreter": {
    "hash": "4e8ef2f9fcac0817bca9a7ca376f64f20b4df5ea3bf7af756a50bda7d3557ea6"
   }
  }
 },
 "nbformat": 4,
 "nbformat_minor": 5
}
