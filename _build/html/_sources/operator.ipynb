{
 "cells": [
  {
   "cell_type": "markdown",
   "id": "8b24f5d3",
   "metadata": {},
   "source": [
    "# Operators"
   ]
  },
  {
   "cell_type": "code",
   "execution_count": 23,
   "id": "5482b331",
   "metadata": {},
   "outputs": [],
   "source": [
    "from qiskit.quantum_info import SparsePauliOp, random_pauli, random_hermitian, random_clifford, random_unitary"
   ]
  },
  {
   "cell_type": "markdown",
   "id": "a299aec9",
   "metadata": {},
   "source": [
    "## Observables"
   ]
  },
  {
   "cell_type": "markdown",
   "id": "2c9e65e8",
   "metadata": {},
   "source": [
    "### random pauli"
   ]
  },
  {
   "cell_type": "code",
   "execution_count": 19,
   "id": "e88a7cc4",
   "metadata": {},
   "outputs": [
    {
     "data": {
      "text/plain": [
       "Pauli('ZYX')"
      ]
     },
     "execution_count": 19,
     "metadata": {},
     "output_type": "execute_result"
    }
   ],
   "source": [
    "random_pauli(3)"
   ]
  },
  {
   "cell_type": "markdown",
   "id": "64c69ef6",
   "metadata": {},
   "source": [
    "### random pauli with fixed weight"
   ]
  },
  {
   "cell_type": "markdown",
   "id": "c5d3033f",
   "metadata": {},
   "source": [
    "### random Hermitian"
   ]
  },
  {
   "cell_type": "code",
   "execution_count": 22,
   "id": "aad2e009",
   "metadata": {},
   "outputs": [
    {
     "name": "stdout",
     "output_type": "stream",
     "text": [
      "Operator([[-0.55707039+0.j        ,  0.84206074+0.26216488j,\n",
      "           -0.43266326-0.16221111j,  0.05284663-0.61020708j],\n",
      "          [ 0.84206074-0.26216488j, -0.17670864+0.j        ,\n",
      "           -0.96305908+0.12418724j,  0.26573818-0.38604076j],\n",
      "          [-0.43266326+0.16221111j, -0.96305908-0.12418724j,\n",
      "            0.7518909 +0.j        , -0.82331876-0.15159718j],\n",
      "          [ 0.05284663+0.61020708j,  0.26573818+0.38604076j,\n",
      "           -0.82331876+0.15159718j, -3.26656753+0.j        ]],\n",
      "         input_dims=(2, 2), output_dims=(2, 2))\n"
     ]
    }
   ],
   "source": [
    "random_hermitian(4)"
   ]
  },
  {
   "cell_type": "markdown",
   "id": "40ed2fee",
   "metadata": {},
   "source": [
    "### Energy"
   ]
  },
  {
   "cell_type": "code",
   "execution_count": null,
   "id": "eb78baf6",
   "metadata": {},
   "outputs": [],
   "source": []
  },
  {
   "cell_type": "markdown",
   "id": "fe120002",
   "metadata": {},
   "source": [
    "### Spin: magnetization, correlation, OTOC"
   ]
  },
  {
   "cell_type": "code",
   "execution_count": 4,
   "id": "7e01d90f",
   "metadata": {},
   "outputs": [
    {
     "data": {
      "text/plain": [
       "SparsePauliOp(['IIIZ', 'IIZI', 'IZII', 'ZIII'],\n",
       "              coeffs=[0.25+0.j, 0.25+0.j, 0.25+0.j, 0.25+0.j])"
      ]
     },
     "execution_count": 4,
     "metadata": {},
     "output_type": "execute_result"
    }
   ],
   "source": [
    "n  = 4\n",
    "magn_op = SparsePauliOp.from_sparse_list([('Z', [i], 1/n) for i in range(0, n)], n)\n",
    "corr_op = SparsePauliOp.from_sparse_list([('ZZ', [i,i+1], 1/(n-1)) for i in range(0, n-1)], n)\n",
    "magn_op"
   ]
  },
  {
   "cell_type": "markdown",
   "id": "dc805515",
   "metadata": {},
   "source": [
    "## Unitaries"
   ]
  },
  {
   "cell_type": "markdown",
   "id": "811c4ebc",
   "metadata": {},
   "source": [
    "### Random unitary"
   ]
  },
  {
   "cell_type": "code",
   "execution_count": 24,
   "id": "c2c270c4",
   "metadata": {},
   "outputs": [
    {
     "name": "stdout",
     "output_type": "stream",
     "text": [
      "Operator([[ 0.23134833+0.04369654j, -0.32008479+0.25942886j,\n",
      "            0.82028777-0.18289223j, -0.15268571-0.21254751j],\n",
      "          [-0.09206845-0.63233525j, -0.6159064 -0.37495105j,\n",
      "           -0.08357862-0.07129137j, -0.20810924+0.12794238j],\n",
      "          [-0.56136202+0.34079881j,  0.17333584-0.45960825j,\n",
      "            0.30110793-0.17322879j, -0.39228545+0.22996028j],\n",
      "          [-0.28081993-0.16159555j,  0.06509485-0.25454079j,\n",
      "            0.21719542-0.337287j  ,  0.79330534-0.18902107j]],\n",
      "         input_dims=(2, 2), output_dims=(2, 2))\n"
     ]
    }
   ],
   "source": [
    "random_unitary(4)"
   ]
  },
  {
   "cell_type": "markdown",
   "id": "1b9c3404",
   "metadata": {},
   "source": [
    "### Random gate"
   ]
  },
  {
   "cell_type": "code",
   "execution_count": 25,
   "id": "6f3ea6aa",
   "metadata": {},
   "outputs": [
    {
     "data": {
      "text/plain": [
       "Clifford(array([[False,  True,  True, False,  True,  True,  True, False, False],\n",
       "       [ True, False,  True, False,  True,  True,  True, False,  True],\n",
       "       [False,  True,  True, False, False, False, False,  True, False],\n",
       "       [False, False, False, False,  True,  True,  True, False, False],\n",
       "       [False,  True,  True,  True, False,  True, False, False, False],\n",
       "       [False,  True,  True, False, False,  True,  True,  True,  True],\n",
       "       [ True, False,  True,  True, False, False, False, False, False],\n",
       "       [ True, False, False,  True, False, False,  True,  True, False]]))"
      ]
     },
     "execution_count": 25,
     "metadata": {},
     "output_type": "execute_result"
    }
   ],
   "source": [
    "random_clifford(4)"
   ]
  }
 ],
 "metadata": {
  "kernelspec": {
   "display_name": "Python 3.8.8 ('base')",
   "language": "python",
   "name": "python3"
  },
  "language_info": {
   "codemirror_mode": {
    "name": "ipython",
    "version": 3
   },
   "file_extension": ".py",
   "mimetype": "text/x-python",
   "name": "python",
   "nbconvert_exporter": "python",
   "pygments_lexer": "ipython3",
   "version": "3.10.14"
  },
  "vscode": {
   "interpreter": {
    "hash": "4e8ef2f9fcac0817bca9a7ca376f64f20b4df5ea3bf7af756a50bda7d3557ea6"
   }
  }
 },
 "nbformat": 4,
 "nbformat_minor": 5
}
