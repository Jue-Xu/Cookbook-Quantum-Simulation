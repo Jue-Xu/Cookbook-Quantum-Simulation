{
 "cells": [
  {
   "cell_type": "markdown",
   "id": "8b24f5d3",
   "metadata": {},
   "source": [
    "# Channels"
   ]
  },
  {
   "cell_type": "code",
   "execution_count": 1,
   "id": "5482b331",
   "metadata": {},
   "outputs": [],
   "source": [
    "from qiskit.quantum_info import SparsePauliOp, Statevector"
   ]
  },
  {
   "cell_type": "markdown",
   "id": "a299aec9",
   "metadata": {},
   "source": [
    "## Noise channel"
   ]
  },
  {
   "cell_type": "code",
   "execution_count": 2,
   "id": "7e01d90f",
   "metadata": {},
   "outputs": [],
   "source": [
    "n  = 4\n"
   ]
  },
  {
   "cell_type": "markdown",
   "id": "e10f3644",
   "metadata": {},
   "source": [
    "## Measurement"
   ]
  }
 ],
 "metadata": {
  "kernelspec": {
   "display_name": "Python 3.8.8 ('base')",
   "language": "python",
   "name": "python3"
  },
  "language_info": {
   "codemirror_mode": {
    "name": "ipython",
    "version": 3
   },
   "file_extension": ".py",
   "mimetype": "text/x-python",
   "name": "python",
   "nbconvert_exporter": "python",
   "pygments_lexer": "ipython3",
   "version": "3.10.14"
  },
  "vscode": {
   "interpreter": {
    "hash": "4e8ef2f9fcac0817bca9a7ca376f64f20b4df5ea3bf7af756a50bda7d3557ea6"
   }
  }
 },
 "nbformat": 4,
 "nbformat_minor": 5
}
