{
 "cells": [
  {
   "cell_type": "markdown",
   "id": "8b24f5d3",
   "metadata": {},
   "source": [
    "# Grouping (commutation)"
   ]
  },
  {
   "cell_type": "code",
   "execution_count": 3,
   "id": "84ac0b32",
   "metadata": {},
   "outputs": [
    {
     "data": {
      "text/plain": [
       "SparsePauliOp(['IIXX', 'IXXI', 'XXII', 'IIYY', 'IYYI', 'YYII', 'IIZZ', 'IZZI', 'ZZII', 'IIIX', 'IIXI', 'IXII', 'XIII'],\n",
       "              coeffs=[1. +0.j, 1. +0.j, 1. +0.j, 1. +0.j, 1. +0.j, 1. +0.j, 1. +0.j, 1. +0.j,\n",
       " 1. +0.j, 0.2+0.j, 0.2+0.j, 0.2+0.j, 0.2+0.j])"
      ]
     },
     "execution_count": 3,
     "metadata": {},
     "output_type": "execute_result"
    }
   ],
   "source": [
    "import quantum_simulation_recipe as qsr\n",
    "from quantum_simulation_recipe import spin_ham\n",
    "\n",
    "H = spin_ham.Nearest_Neighbour_1d(4)\n",
    "H.ham"
   ]
  },
  {
   "cell_type": "markdown",
   "id": "d2c55840",
   "metadata": {},
   "source": [
    "## Parity grouping"
   ]
  },
  {
   "cell_type": "code",
   "execution_count": 5,
   "id": "4e8ff00a",
   "metadata": {},
   "outputs": [
    {
     "data": {
      "text/plain": [
       "[SparsePauliOp(['IIXX', 'XXII', 'IIYY', 'YYII', 'IIZZ', 'ZZII', 'IIIX', 'IXII'],\n",
       "               coeffs=[1. +0.j, 1. +0.j, 1. +0.j, 1. +0.j, 1. +0.j, 1. +0.j, 0.2+0.j, 0.2+0.j]),\n",
       " SparsePauliOp(['IXXI', 'IYYI', 'IZZI', 'IIXI', 'XIII'],\n",
       "               coeffs=[1. +0.j, 1. +0.j, 1. +0.j, 0.2+0.j, 0.2+0.j])]"
      ]
     },
     "execution_count": 5,
     "metadata": {},
     "output_type": "execute_result"
    }
   ],
   "source": [
    "H.ham_par"
   ]
  },
  {
   "cell_type": "markdown",
   "id": "cea8fcfa",
   "metadata": {},
   "source": [
    "### XYZ grouping"
   ]
  },
  {
   "cell_type": "code",
   "execution_count": 4,
   "id": "6fc1faba",
   "metadata": {},
   "outputs": [
    {
     "data": {
      "text/plain": [
       "[SparsePauliOp(['IIXX', 'IXXI', 'XXII', 'IIIX', 'IIXI', 'IXII', 'XIII'],\n",
       "               coeffs=[1. +0.j, 1. +0.j, 1. +0.j, 0.2+0.j, 0.2+0.j, 0.2+0.j, 0.2+0.j]),\n",
       " SparsePauliOp(['IIYY', 'IYYI', 'YYII'],\n",
       "               coeffs=[1.+0.j, 1.+0.j, 1.+0.j]),\n",
       " SparsePauliOp(['IIZZ', 'IZZI', 'ZZII'],\n",
       "               coeffs=[1.+0.j, 1.+0.j, 1.+0.j])]"
      ]
     },
     "execution_count": 4,
     "metadata": {},
     "output_type": "execute_result"
    }
   ],
   "source": [
    "H.ham_xyz"
   ]
  }
 ],
 "metadata": {
  "kernelspec": {
   "display_name": "Python 3.8.8 ('base')",
   "language": "python",
   "name": "python3"
  },
  "language_info": {
   "codemirror_mode": {
    "name": "ipython",
    "version": 3
   },
   "file_extension": ".py",
   "mimetype": "text/x-python",
   "name": "python",
   "nbconvert_exporter": "python",
   "pygments_lexer": "ipython3",
   "version": "3.10.14"
  },
  "vscode": {
   "interpreter": {
    "hash": "4e8ef2f9fcac0817bca9a7ca376f64f20b4df5ea3bf7af756a50bda7d3557ea6"
   }
  }
 },
 "nbformat": 4,
 "nbformat_minor": 5
}
