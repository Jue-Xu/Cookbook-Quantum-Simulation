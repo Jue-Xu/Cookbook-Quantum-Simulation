{
 "cells": [
  {
   "cell_type": "markdown",
   "id": "8b24f5d3",
   "metadata": {},
   "source": [
    "# Quantities"
   ]
  },
  {
   "cell_type": "markdown",
   "id": "a18376cc",
   "metadata": {},
   "source": [
    "## Entenglement measures"
   ]
  },
  {
   "cell_type": "markdown",
   "id": "64ad1629",
   "metadata": {},
   "source": [
    "## (Anti) commutator"
   ]
  },
  {
   "cell_type": "markdown",
   "id": "70153f53",
   "metadata": {},
   "source": [
    "## Different norms"
   ]
  },
  {
   "cell_type": "code",
   "execution_count": 4,
   "id": "2c40e3ec",
   "metadata": {},
   "outputs": [
    {
     "name": "stdout",
     "output_type": "stream",
     "text": [
      "op:  SparsePauliOp(['XIIZI', 'IYIIY'],\n",
      "              coeffs=[1.+0.j, 2.+0.j])\n",
      "Spectral norm:  3.0000000000000004\n",
      "Trace norm:  63.999999999999986\n",
      "Frobenius norm:  12.649110640673518\n"
     ]
    }
   ],
   "source": [
    "from qiskit.quantum_info import SparsePauliOp\n",
    "from numpy.linalg import norm  \n",
    "\n",
    "op = SparsePauliOp.from_list([(\"XIIZI\", 1), (\"IYIIY\", 2)])\n",
    "print('op: ', op)\n",
    "print('Spectral norm: ', norm(op, ord=2))\n",
    "print('Trace norm: ', norm(op, ord='nuc'))\n",
    "print('Frobenius norm: ', norm(op, ord='fro'))\n",
    "# print(norm(SparsePauliOp.from_list([(\"XYZI\", 1)]), ord='nuc'))"
   ]
  }
 ],
 "metadata": {
  "kernelspec": {
   "display_name": "Python 3.8.8 ('base')",
   "language": "python",
   "name": "python3"
  },
  "language_info": {
   "codemirror_mode": {
    "name": "ipython",
    "version": 3
   },
   "file_extension": ".py",
   "mimetype": "text/x-python",
   "name": "python",
   "nbconvert_exporter": "python",
   "pygments_lexer": "ipython3",
   "version": "3.10.14"
  },
  "vscode": {
   "interpreter": {
    "hash": "4e8ef2f9fcac0817bca9a7ca376f64f20b4df5ea3bf7af756a50bda7d3557ea6"
   }
  }
 },
 "nbformat": 4,
 "nbformat_minor": 5
}
