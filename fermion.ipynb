{
 "cells": [
  {
   "cell_type": "markdown",
   "id": "8b24f5d3",
   "metadata": {},
   "source": [
    "# Fermion"
   ]
  },
  {
   "cell_type": "code",
   "execution_count": 1,
   "id": "be5e4687",
   "metadata": {},
   "outputs": [],
   "source": [
    "import quantum_simulation_recipe as qsr\n",
    "from quantum_simulation_recipe import spin_ham, fermion_ham"
   ]
  },
  {
   "cell_type": "markdown",
   "id": "c19aaffa",
   "metadata": {},
   "source": [
    "### Jordan-Wigner transformation"
   ]
  },
  {
   "cell_type": "markdown",
   "id": "9dd417bb",
   "metadata": {},
   "source": [
    "## Chemical molecules"
   ]
  },
  {
   "cell_type": "code",
   "execution_count": 4,
   "id": "87ae2b52",
   "metadata": {},
   "outputs": [
    {
     "name": "stdout",
     "output_type": "stream",
     "text": [
      "# pstr: 15, ['IIII', 'ZIII', 'IZII', 'IIZI', 'IIIZ', 'ZZII', 'YXXY', 'YYXX', 'XXYY', 'XYYX', 'ZIZI', 'ZIIZ', 'IZZI', 'IZIZ', 'IIZZ']\n",
      "# groups: 2\n",
      "[[{'IIII': (-0.3276081896748102+0j)}, {'ZIII': (0.13716572937099497+0j)}, {'IZII': (0.13716572937099497+0j)}, {'IIZI': (-0.13036292057109025+0j)}, {'IIIZ': (-0.13036292057109025+0j)}, {'ZZII': (0.15660062488237947+0j)}], [{'YXXY': (0.049197645871367546+0j)}, {'YYXX': (-0.049197645871367546+0j)}, {'XXYY': (-0.049197645871367546+0j)}, {'XYYX': (0.049197645871367546+0j)}, {'ZIZI': (0.10622904490856078+0j)}, {'ZIIZ': (0.15542669077992832+0j)}, {'IZZI': (0.15542669077992832+0j)}, {'IZIZ': (0.10622904490856078+0j)}, {'IIZZ': (0.16326768673564335+0j)}]]\n",
      "# pstr: 15, ['IIII', 'ZIII', 'IZII', 'IIZI', 'IIIZ', 'ZZII', 'YXXY', 'YYXX', 'XXYY', 'XYYX', 'ZIZI', 'ZIIZ', 'IZZI', 'IZIZ', 'IIZZ']\n",
      "# groups: 2\n",
      "[[{'IIII': (-0.5339363487727404+0j)}, {'ZIII': (0.06727930458983424+0j)}, {'IZII': (0.06727930458983425+0j)}, {'IIZI': (0.006651295687574471+0j)}, {'IIIZ': (0.006651295687574513+0j)}, {'ZZII': (0.1273657031065746+0j)}], [{'YXXY': (0.06478461872026418+0j)}, {'YYXX': (-0.06478461872026418+0j)}, {'XXYY': (-0.06478461872026418+0j)}, {'XYYX': (0.06478461872026418+0j)}, {'ZIZI': (0.06501569581211994+0j)}, {'ZIIZ': (0.12980031453238414+0j)}, {'IZZI': (0.12980031453238414+0j)}, {'IZIZ': (0.06501569581211994+0j)}, {'IIZZ': (0.13366602988233992+0j)}]]\n"
     ]
    }
   ],
   "source": [
    "d = 1.0\n",
    "n_hydrogen = 2\n",
    "n = n_hydrogen * 2\n",
    "h2_init = fermion_ham.hydrogen_chain_hamiltonian(n_hydrogen, d, verbose=False)\n",
    "h2_finl = fermion_ham.hydrogen_chain_hamiltonian(n_hydrogen, 2*d, verbose=False)"
   ]
  },
  {
   "cell_type": "markdown",
   "id": "cfb5c48a",
   "metadata": {},
   "source": [
    "### Ferimonic operators"
   ]
  },
  {
   "cell_type": "markdown",
   "id": "e7a75743",
   "metadata": {},
   "source": [
    "### Pauli operators"
   ]
  },
  {
   "cell_type": "markdown",
   "id": "60709827",
   "metadata": {},
   "source": [
    "## SYK model"
   ]
  },
  {
   "cell_type": "markdown",
   "id": "50cee78b",
   "metadata": {},
   "source": [
    "## Hubbard model"
   ]
  }
 ],
 "metadata": {
  "kernelspec": {
   "display_name": "Python 3.8.8 ('base')",
   "language": "python",
   "name": "python3"
  },
  "language_info": {
   "codemirror_mode": {
    "name": "ipython",
    "version": 3
   },
   "file_extension": ".py",
   "mimetype": "text/x-python",
   "name": "python",
   "nbconvert_exporter": "python",
   "pygments_lexer": "ipython3",
   "version": "3.10.14"
  },
  "vscode": {
   "interpreter": {
    "hash": "4e8ef2f9fcac0817bca9a7ca376f64f20b4df5ea3bf7af756a50bda7d3557ea6"
   }
  }
 },
 "nbformat": 4,
 "nbformat_minor": 5
}
